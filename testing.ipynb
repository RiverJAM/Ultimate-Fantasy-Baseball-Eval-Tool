{
 "cells": [
  {
   "cell_type": "code",
   "execution_count": 1,
   "metadata": {},
   "outputs": [
    {
     "name": "stdout",
     "output_type": "stream",
     "text": [
      "Requirement already satisfied: citipy in /Users/josephmonahan/opt/anaconda3/lib/python3.8/site-packages (0.0.5)\r\n",
      "Requirement already satisfied: kdtree>=0.12 in /Users/josephmonahan/opt/anaconda3/lib/python3.8/site-packages (from citipy) (0.16)\r\n"
     ]
    }
   ],
   "source": [
    "!pip install citipy"
   ]
  },
  {
   "cell_type": "code",
   "execution_count": 3,
   "metadata": {},
   "outputs": [
    {
     "ename": "ModuleNotFoundError",
     "evalue": "No module named 'citipy'",
     "output_type": "error",
     "traceback": [
      "\u001b[0;31m---------------------------------------------------------------------------\u001b[0m",
      "\u001b[0;31mModuleNotFoundError\u001b[0m                       Traceback (most recent call last)",
      "\u001b[0;32m<ipython-input-3-a3a36bc64f2f>\u001b[0m in \u001b[0;36m<module>\u001b[0;34m\u001b[0m\n\u001b[1;32m      5\u001b[0m \u001b[0;32mimport\u001b[0m \u001b[0mpandas\u001b[0m \u001b[0;32mas\u001b[0m \u001b[0mpd\u001b[0m\u001b[0;34m\u001b[0m\u001b[0;34m\u001b[0m\u001b[0m\n\u001b[1;32m      6\u001b[0m \u001b[0;32mfrom\u001b[0m \u001b[0mconfig\u001b[0m \u001b[0;32mimport\u001b[0m \u001b[0mapi_key\u001b[0m\u001b[0;34m\u001b[0m\u001b[0;34m\u001b[0m\u001b[0m\n\u001b[0;32m----> 7\u001b[0;31m \u001b[0;32mfrom\u001b[0m \u001b[0mcitipy\u001b[0m \u001b[0;32mimport\u001b[0m \u001b[0mcitipy\u001b[0m\u001b[0;34m\u001b[0m\u001b[0;34m\u001b[0m\u001b[0m\n\u001b[0m\u001b[1;32m      8\u001b[0m \u001b[0;32mimport\u001b[0m \u001b[0mnumpy\u001b[0m \u001b[0;32mas\u001b[0m \u001b[0mnp\u001b[0m\u001b[0;34m\u001b[0m\u001b[0;34m\u001b[0m\u001b[0m\n\u001b[1;32m      9\u001b[0m \u001b[0;32mimport\u001b[0m \u001b[0mjson\u001b[0m\u001b[0;34m\u001b[0m\u001b[0;34m\u001b[0m\u001b[0m\n",
      "\u001b[0;31mModuleNotFoundError\u001b[0m: No module named 'citipy'"
     ]
    }
   ],
   "source": [
    "# Dependencies\n",
    "import matplotlib.pyplot as plt\n",
    "import requests\n",
    "from scipy import stats\n",
    "import pandas as pd\n",
    "from config import api_key\n",
    "from citipy import citipy\n",
    "import numpy as np\n",
    "import json\n",
    "import random"
   ]
  },
  {
   "cell_type": "code",
   "execution_count": null,
   "metadata": {},
   "outputs": [],
   "source": [
    "# Save config information.\n",
    "url = \"http://api.sportradar.us/mlb/trial/v7/en/players/6e1cac5c-b059-4b80-a267-5143b19efb27/profile.json?\"\n",
    "\n",
    "\n",
    "# Build partial query URL\n",
    "query_url = f\"{url}api_key={api_key}\""
   ]
  },
  {
   "cell_type": "code",
   "execution_count": null,
   "metadata": {},
   "outputs": [],
   "source": [
    "# #test response to get data out of json\n",
    "response1 = requests.get(query_url).json()\n",
    "response1"
   ]
  },
  {
   "cell_type": "code",
   "execution_count": null,
   "metadata": {},
   "outputs": [],
   "source": [
    "# Save config information.\n",
    "url2 = \"http://api.sportradar.us/mlb/trial/v7/en/players/29a80d91-946d-4701-af7d-034850bdef00/profile.json?\"\n",
    "\n",
    "\n",
    "# Build partial query URL\n",
    "query_url = f\"{url2}api_key={api_key}\""
   ]
  },
  {
   "cell_type": "code",
   "execution_count": null,
   "metadata": {},
   "outputs": [],
   "source": [
    "# #test response to get data out of json\n",
    "response2 = requests.get(query_url).json()\n",
    "response2"
   ]
  },
  {
   "cell_type": "code",
   "execution_count": null,
   "metadata": {},
   "outputs": [],
   "source": [
    "geez= response1['player']['seasons']\n",
    "geez"
   ]
  },
  {
   "cell_type": "code",
   "execution_count": null,
   "metadata": {},
   "outputs": [],
   "source": [
    "# Save config information.\n",
    "url2 = \"http://api.sportradar.us/mlb/trial/v7/en/players/\"\n",
    "# Build partial query URL\n",
    "query_url = f\"{url2}{id}/profile.json?api_key={api_key}\"\n",
    "print(query_url)"
   ]
  },
  {
   "cell_type": "code",
   "execution_count": null,
   "metadata": {},
   "outputs": [],
   "source": [
    "# #test response to get data out of json\n",
    "response3 = requests.get(query_url).json()\n",
    "response3"
   ]
  },
  {
   "cell_type": "code",
   "execution_count": null,
   "metadata": {},
   "outputs": [],
   "source": [
    "geez= response2['player']['seasons']"
   ]
  },
  {
   "cell_type": "code",
   "execution_count": null,
   "metadata": {
    "scrolled": true
   },
   "outputs": [],
   "source": [
    "len(geez)"
   ]
  },
  {
   "cell_type": "code",
   "execution_count": null,
   "metadata": {},
   "outputs": [],
   "source": [
    "def getseasonByYear(seasons,year,seasonType ='REG'):\n",
    "    for season in seasons:\n",
    "        if(season.get('year',0) == year and season.get('type','N/A') == seasonType):\n",
    "            return season;\n",
    "    return 'season not found'"
   ]
  },
  {
   "cell_type": "code",
   "execution_count": null,
   "metadata": {},
   "outputs": [],
   "source": [
    "def getseasonAllseasons(seasons):\n",
    "    seasonsYears = []\n",
    "    for season in seasons:\n",
    "        seasonsYears.append([season.get('year','N/A'),season.get('type','N/A')])\n",
    "    return seasonsYears"
   ]
  },
  {
   "cell_type": "code",
   "execution_count": null,
   "metadata": {},
   "outputs": [],
   "source": [
    "getseasonAllseasons(geez)"
   ]
  },
  {
   "cell_type": "code",
   "execution_count": null,
   "metadata": {},
   "outputs": [],
   "source": [
    "getseasonByYear(geez,2014)"
   ]
  },
  {
   "cell_type": "code",
   "execution_count": null,
   "metadata": {},
   "outputs": [],
   "source": [
    "geez[0]['totals']['statistics']['hitting']['overall']['ap']"
   ]
  },
  {
   "cell_type": "code",
   "execution_count": null,
   "metadata": {},
   "outputs": [],
   "source": [
    "geez[0]['totals']['statcast_metrics']['hitting']['overall'][1]['barreled_ball']['count']"
   ]
  },
  {
   "cell_type": "code",
   "execution_count": null,
   "metadata": {},
   "outputs": [],
   "source": [
    "geez[0]['totals']['statcast_metrics']['hitting']['overall'][6]['launch_speed']['max']\n"
   ]
  },
  {
   "cell_type": "code",
   "execution_count": null,
   "metadata": {},
   "outputs": [],
   "source": [
    "import json\n",
    "import pandas as pd\n",
    "data = json.load(open('depth_charts.json'))\n"
   ]
  },
  {
   "cell_type": "code",
   "execution_count": null,
   "metadata": {},
   "outputs": [],
   "source": [
    "data[\"teams\"]"
   ]
  },
  {
   "cell_type": "code",
   "execution_count": null,
   "metadata": {},
   "outputs": [],
   "source": [
    "def get_All_the_ids_1(teams):\n",
    "    player_id_only =[]\n",
    "    for team in teams:\n",
    "        for position in team.get(\"positions\",[]):\n",
    "            for player in position.get(\"players\",{}):\n",
    "                player_id_only.append((player.get(\"id\",\"N/A\")))\n",
    "\n",
    "    return player_id_only"
   ]
  },
  {
   "cell_type": "code",
   "execution_count": null,
   "metadata": {
    "scrolled": false
   },
   "outputs": [],
   "source": [
    "just_id = get_All_the_ids_1(data['teams'])\n",
    "Just_A_sliiiiice = just_id[0:9]\n",
    "print(Just_A_sliiiiice)"
   ]
  },
  {
   "cell_type": "code",
   "execution_count": null,
   "metadata": {},
   "outputs": [],
   "source": [
    "len(Just_A_sliiiiice)"
   ]
  },
  {
   "cell_type": "code",
   "execution_count": null,
   "metadata": {},
   "outputs": [],
   "source": [
    "import time"
   ]
  },
  {
   "cell_type": "code",
   "execution_count": null,
   "metadata": {},
   "outputs": [],
   "source": [
    "for id in Just_A_sliiiiice:\n",
    "    try: \n",
    "        url2 = \"http://api.sportradar.us/mlb/trial/v7/en/players/\"\n",
    "        # Build partial query URL\n",
    "        query_url = f\"{url2}{id}/profile.json?api_key={api_key}\"\n",
    "        response = requests.get(query_url)\n",
    "        response_json = response.json()\n",
    "        file_name = f\"TopTen{id}.json\"\n",
    "      \n",
    "        with open(f\"TopTen{id}.json\", 'w', encoding='utf-8') as f:\n",
    "            json.dump(response_json, f, ensure_ascii=False, indent=4)\n",
    "        print(f\"file {file_name} created\")\n",
    "        time.sleep(5)\n",
    "    except: \n",
    "        print(\"I found an error\")\n",
    "        print(id)\n",
    "        print(response)\n",
    "        \n",
    "    "
   ]
  },
  {
   "cell_type": "code",
   "execution_count": null,
   "metadata": {},
   "outputs": [],
   "source": [
    "Bigger_slice = just_id[9:120]\n",
    "set(Bigger_slice)\n",
    "len(Bigger_slice)"
   ]
  },
  {
   "cell_type": "code",
   "execution_count": null,
   "metadata": {},
   "outputs": [],
   "source": [
    "for id in Bigger_slice:\n",
    "    try: \n",
    "        url2 = \"http://api.sportradar.us/mlb/trial/v7/en/players/\"\n",
    "        # Build partial query URL\n",
    "        query_url = f\"{url2}{id}/profile.json?api_key={api_key}\"\n",
    "        response = requests.get(query_url)\n",
    "        response_json = response.json()\n",
    "        file_name = f\"TopTen{id}.json\"\n",
    "      \n",
    "        with open(f\"TopTen{id}.json\", 'w', encoding='utf-8') as f:\n",
    "            json.dump(response_json, f, ensure_ascii=False, indent=4)\n",
    "        print(f\"file {file_name} created\")\n",
    "        time.sleep(5)\n",
    "    except: \n",
    "        print(\"I found an error\")\n",
    "        print(id)\n",
    "        print(response)\n",
    "        "
   ]
  },
  {
   "cell_type": "code",
   "execution_count": null,
   "metadata": {},
   "outputs": [],
   "source": [
    "Final_slice = just_id[120:180]\n",
    "set(Final_slice)\n",
    "len(Final_slice)"
   ]
  },
  {
   "cell_type": "code",
   "execution_count": null,
   "metadata": {},
   "outputs": [],
   "source": [
    "for id in Final_slice:\n",
    "    try: \n",
    "        url2 = \"http://api.sportradar.us/mlb/trial/v7/en/players/\"\n",
    "        # Build partial query URL\n",
    "        query_url = f\"{url2}{id}/profile.json?api_key={api_key}\"\n",
    "        response = requests.get(query_url)\n",
    "        response_json = response.json()\n",
    "        file_name = f\"TopTen{id}.json\"\n",
    "      \n",
    "        with open(f\"TopTen{id}.json\", 'w', encoding='utf-8') as f:\n",
    "            json.dump(response_json, f, ensure_ascii=False, indent=4)\n",
    "        print(f\"file {file_name} created\")\n",
    "        time.sleep(5)\n",
    "    except: \n",
    "        print(\"I found an error\")\n",
    "        print(id)\n",
    "        print(response)"
   ]
  },
  {
   "cell_type": "code",
   "execution_count": null,
   "metadata": {},
   "outputs": [],
   "source": [
    "url2 = \"http://api.sportradar.us/mlb/trial/v7/en/players/\"\n",
    "# Build partial query URL\n",
    "query_url = f\"{url2}5a1ba87b-8ec6-4588-97c8-79db8d044cca/profile.json?api_key={api_key}\"\n",
    "response_check = requests.get(query_url).json()\n",
    "#     barrels = response['player']['seasons'][0]['totals']['statcast_metrics']['hitting']['overall'][1]['barreled_ball']['count']\n",
    "#     Max_exit_velo = response['player']['seasons'][0]['totals']['statcast_metrics']['hitting']['overall'][6]['launch_speed']['max']\n",
    "#     pa = response['player']['seasons']['totals']['statistics']['hitting']['overall']['ap']\n",
    "print(response_check)\n"
   ]
  },
  {
   "cell_type": "code",
   "execution_count": null,
   "metadata": {},
   "outputs": [],
   "source": [
    "response_check['player']"
   ]
  },
  {
   "cell_type": "code",
   "execution_count": null,
   "metadata": {},
   "outputs": [],
   "source": [
    "import json\n"
   ]
  },
  {
   "cell_type": "code",
   "execution_count": null,
   "metadata": {},
   "outputs": [],
   "source": [
    "def get_All_the_ids(teams):\n",
    "    player_id =[]\n",
    "    for team in teams:\n",
    "        for position in team.get(\"positions\",[]):\n",
    "            for player in position.get(\"players\",{}):\n",
    "#                 player_id.append((player.get(\"id\",\"N/A\"),\n",
    "#                                  player.get(\"preferred_name\",\"N/A\"),\n",
    "#                                  player.get(\"last_name\",\"N/A\")))\n",
    "                player_id.append({\"id\": player.get(\"id\",\"N/A\"),\n",
    "                         \"preferred_name\":player.get(\"preferred_name\",\"N/A\"),\n",
    "                         \"last_name\":player.get(\"last_name\",\"N/A\")})\n",
    "    return player_id"
   ]
  },
  {
   "cell_type": "code",
   "execution_count": null,
   "metadata": {},
   "outputs": [],
   "source": [
    "playas = get_All_the_ids(data[\"teams\"])"
   ]
  },
  {
   "cell_type": "code",
   "execution_count": null,
   "metadata": {},
   "outputs": [],
   "source": [
    "playas"
   ]
  },
  {
   "cell_type": "code",
   "execution_count": null,
   "metadata": {},
   "outputs": [],
   "source": [
    "len(get_All_the_ids(data[\"teams\"]))"
   ]
  },
  {
   "cell_type": "code",
   "execution_count": null,
   "metadata": {},
   "outputs": [],
   "source": [
    "def get_all_the_teams(teams):\n",
    "    team_names = []\n",
    "    for team in teams:\n",
    "        team_names.append([teams])\n",
    "    "
   ]
  },
  {
   "cell_type": "code",
   "execution_count": null,
   "metadata": {},
   "outputs": [],
   "source": [
    "get_All_the_ids(data)"
   ]
  },
  {
   "cell_type": "code",
   "execution_count": null,
   "metadata": {},
   "outputs": [],
   "source": [
    "response['player']['seasons'][0]['totals']['statcast_metrics']['hitting']['overall'][5]['barreled_ball']['count']"
   ]
  },
  {
   "cell_type": "code",
   "execution_count": null,
   "metadata": {},
   "outputs": [],
   "source": [
    "response"
   ]
  },
  {
   "cell_type": "code",
   "execution_count": null,
   "metadata": {},
   "outputs": [],
   "source": []
  },
  {
   "cell_type": "code",
   "execution_count": null,
   "metadata": {},
   "outputs": [],
   "source": []
  },
  {
   "cell_type": "code",
   "execution_count": null,
   "metadata": {},
   "outputs": [],
   "source": [
    "def getseasonAllseasons(seasons):\n",
    "    seasonsYears = []\n",
    "    for season in seasons:\n",
    "        seasonsYears.append([season.get('year','N/A'),season.get('type','N/A')])\n",
    "    return seasonsYears\n",
    "\n",
    "\n"
   ]
  }
 ],
 "metadata": {
  "kernelspec": {
   "display_name": "Python 3",
   "language": "python",
   "name": "python3"
  },
  "language_info": {
   "codemirror_mode": {
    "name": "ipython",
    "version": 3
   },
   "file_extension": ".py",
   "mimetype": "text/x-python",
   "name": "python",
   "nbconvert_exporter": "python",
   "pygments_lexer": "ipython3",
   "version": "3.8.5"
  }
 },
 "nbformat": 4,
 "nbformat_minor": 4
}
