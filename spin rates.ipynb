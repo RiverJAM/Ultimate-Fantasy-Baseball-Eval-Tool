{
 "cells": [
  {
   "cell_type": "raw",
   "metadata": {},
   "source": [
    "This code imports statcast data from our mongodb.  It creates 2 functions which pull season data\n",
    "then creates a second function to get to the barreled ball data itslef"
   ]
  },
  {
   "cell_type": "code",
   "execution_count": 2,
   "metadata": {},
   "outputs": [],
   "source": [
    "\n",
    "from flask import Flask, render_template, redirect, jsonify\n",
    "from flask_pymongo import PyMongo\n",
    "# import scrape_mars\n",
    "import json\n",
    "from bson.objectid import ObjectId\n",
    "from bson import json_util\n",
    "from bson import ObjectId"
   ]
  },
  {
   "cell_type": "code",
   "execution_count": 3,
   "metadata": {},
   "outputs": [],
   "source": [
    "app = Flask(__name__,static_url_path=\"/static\",static_folder=\"static\")\n",
    "mongo = PyMongo(app, uri=\"mongodb://localhost:27017/Ultimate_Baseball_Project\")"
   ]
  },
  {
   "cell_type": "code",
   "execution_count": 4,
   "metadata": {},
   "outputs": [],
   "source": [
    "pitcher_data = mongo.db.statcast.find()"
   ]
  },
  {
   "cell_type": "code",
   "execution_count": 5,
   "metadata": {},
   "outputs": [],
   "source": [
    "pitcher_data_list = list(pitcher_data)"
   ]
  },
  {
   "cell_type": "code",
   "execution_count": 6,
   "metadata": {},
   "outputs": [],
   "source": [
    "def getSeasonByYear(player,year,seasonType ='REG'):\n",
    "    seasons = player.get('seasons', [])\n",
    "    for season in seasons:\n",
    "        if(season.get('year',0) == year and season.get('type','N/A') == seasonType):\n",
    "            return season;\n",
    "    return {}"
   ]
  },
  {
   "cell_type": "code",
   "execution_count": 7,
   "metadata": {},
   "outputs": [],
   "source": [
    "def getPitchTypesSubset(season):\n",
    "    totals = season.get('totals', {})\n",
    "    statcast_metrics = totals.get('statcast_metrics', {})\n",
    "    pitching = statcast_metrics.get('pitching', {})\n",
    "    pitch_types = pitching.get('pitch_types', {})\n",
    "    for item in pitch_types:\n",
    "        if 'pitch_types' in item.keys():\n",
    "            return item.get('pitch_types', {})\n",
    "        else:\n",
    "            return 0"
   ]
  },
  {
   "cell_type": "code",
   "execution_count": null,
   "metadata": {},
   "outputs": [],
   "source": [
    "def getSpinRates(pitchTypeDataset, pitchType)\n",
    "    if pitchTypeDataset.get('0').get.('type' == pitchType):\n",
    "        return item.get('avg', {})\n",
    "    else if pitchTypeDataset.get('1').get.('type') == pitchType:\n",
    "        return item.get('avg', {})\n",
    "    else if pitchTypeDataset.get('2').get.('type') == pitchType:\n",
    "        return item.get('avg', {})\n",
    "    else if pitchTypeDataset.get('3').get.('type') == pitchType:\n",
    "        return item.get('avg', {})\n",
    "    else if pitchTypeDataset.get('4').get.('type') == pitchType:\n",
    "        return item.get('avg', {})\n",
    "    else if pitchTypeDataset.get('5').get.('type') == pitchType:\n",
    "        return item.get('avg', {})\n",
    "    else if pitchTypeDataset.get('6').get.('type') == pitchType:\n",
    "        return item.get('avg', {})\n",
    "    else if pitchTypeDataset.get('7').get.('type') == pitchType:\n",
    "        return item.get('avg', {})\n",
    "    else if pitchTypeDataset.get('8').get.('type') == pitchType:\n",
    "        return item.get('avg', {})\n",
    "    else if pitchTypeDataset.get('9').get.('type') == pitchType:\n",
    "        return item.get('avg', {})\n",
    "    "
   ]
  },
  {
   "cell_type": "code",
   "execution_count": 8,
   "metadata": {},
   "outputs": [],
   "source": [
    "season_year = 2019"
   ]
  },
  {
   "cell_type": "code",
   "execution_count": 9,
   "metadata": {},
   "outputs": [],
   "source": [
    "data = []"
   ]
  },
  {
   "cell_type": "code",
   "execution_count": 10,
   "metadata": {},
   "outputs": [
    {
     "name": "stdout",
     "output_type": "stream",
     "text": [
      "None\n",
      "None\n",
      "0\n",
      "None\n",
      "None\n",
      "None\n",
      "None\n",
      "None\n",
      "None\n",
      "0\n",
      "None\n",
      "None\n",
      "None\n",
      "None\n",
      "None\n",
      "None\n",
      "0\n",
      "None\n",
      "None\n",
      "None\n",
      "None\n",
      "None\n",
      "None\n",
      "None\n",
      "None\n",
      "0\n",
      "None\n",
      "None\n",
      "0\n",
      "0\n",
      "0\n",
      "None\n",
      "None\n",
      "None\n",
      "None\n",
      "None\n",
      "None\n",
      "None\n",
      "None\n",
      "0\n",
      "None\n",
      "0\n",
      "None\n",
      "None\n",
      "None\n",
      "0\n",
      "0\n",
      "0\n",
      "0\n",
      "0\n",
      "0\n",
      "None\n",
      "None\n",
      "None\n",
      "0\n",
      "0\n",
      "None\n",
      "None\n",
      "None\n",
      "0\n",
      "0\n",
      "None\n",
      "None\n",
      "None\n",
      "None\n",
      "None\n",
      "None\n",
      "None\n",
      "0\n",
      "None\n",
      "None\n",
      "0\n",
      "None\n",
      "None\n",
      "0\n",
      "0\n",
      "0\n",
      "0\n",
      "0\n",
      "None\n",
      "None\n",
      "None\n",
      "None\n",
      "None\n",
      "None\n",
      "None\n",
      "None\n",
      "None\n",
      "None\n",
      "0\n",
      "0\n",
      "0\n",
      "None\n",
      "0\n",
      "None\n",
      "None\n",
      "0\n",
      "0\n",
      "None\n",
      "None\n",
      "None\n",
      "None\n",
      "None\n",
      "None\n",
      "0\n",
      "0\n",
      "0\n",
      "None\n",
      "None\n",
      "0\n",
      "None\n",
      "0\n",
      "0\n",
      "0\n",
      "0\n",
      "None\n",
      "0\n",
      "None\n",
      "0\n",
      "0\n",
      "None\n",
      "0\n",
      "0\n",
      "None\n",
      "None\n",
      "None\n",
      "None\n",
      "None\n",
      "None\n",
      "None\n"
     ]
    }
   ],
   "source": [
    "for player_dict in pitcher_data_list:\n",
    "    player =  player_dict.get(\"player\",{})\n",
    "    item = {}\n",
    "    item[\"name\"] = player.get(\"full_name\",\"N/A\")\n",
    "#     print(item)\n",
    "    season = getSeasonByYear(player, season_year)\n",
    "    x = getPitchTypesSubset(season)\n",
    "    print(x)\n",
    "  \n",
    "#     item[\"pitch_types\"] = getBarreledBall(season)\n",
    "#     data.append(item)"
   ]
  },
  {
   "cell_type": "code",
   "execution_count": 102,
   "metadata": {},
   "outputs": [
    {
     "data": {
      "text/plain": [
       "[{'name': 'Ronaldo HernÃ¡ndez', 'barreledBall': 0},\n",
       " {'name': 'Michael Chavis', 'barreledBall': 187},\n",
       " {'name': 'Hyun Jin Ryu', 'barreledBall': 28},\n",
       " {'name': 'Ryan Thompson', 'barreledBall': 0},\n",
       " {'name': 'RamÃ³n UrÃ\\xadas', 'barreledBall': 0},\n",
       " {'name': 'Otto Lopez', 'barreledBall': 0},\n",
       " {'name': 'Yoshi Tsutsugo', 'barreledBall': 0},\n",
       " {'name': 'Luke Voit', 'barreledBall': 271},\n",
       " {'name': 'Christian VÃ¡zquez', 'barreledBall': 350},\n",
       " {'name': 'Hunter Harvey', 'barreledBall': 0},\n",
       " {'name': 'Andrew Benintendi', 'barreledBall': 379},\n",
       " {'name': 'Austin Hays', 'barreledBall': 49},\n",
       " {'name': 'Ji-Man Choi', 'barreledBall': 292},\n",
       " {'name': 'Zac Lowther', 'barreledBall': 0},\n",
       " {'name': 'Jonathan Davis', 'barreledBall': 54},\n",
       " {'name': 'Pat Valaika', 'barreledBall': 39},\n",
       " {'name': 'Hanser Alberto', 'barreledBall': 435},\n",
       " {'name': 'Teoscar HernÃ¡ndez', 'barreledBall': 236},\n",
       " {'name': 'Tanner Houck', 'barreledBall': 0},\n",
       " {'name': 'Ty Tice', 'barreledBall': 0},\n",
       " {'name': 'Christian Arroyo', 'barreledBall': 30},\n",
       " {'name': 'Clint Frazier', 'barreledBall': 147},\n",
       " {'name': 'Brett Phillips', 'barreledBall': 39},\n",
       " {'name': 'Lourdes Gurriel Jr.', 'barreledBall': 216},\n",
       " {'name': 'Richie Martin', 'barreledBall': 188},\n",
       " {'name': 'Chris Mazza', 'barreledBall': 1},\n",
       " {'name': 'Mike Tauchman', 'barreledBall': 183},\n",
       " {'name': 'Xander Bogaerts', 'barreledBall': 457},\n",
       " {'name': 'Pete Fairbanks', 'barreledBall': 0},\n",
       " {'name': 'Darwinzon Hernandez', 'barreledBall': 0},\n",
       " {'name': 'Ryan Borucki', 'barreledBall': 0},\n",
       " {'name': 'Alexander Wells', 'barreledBall': 0},\n",
       " {'name': 'Thairo Estrada', 'barreledBall': 47},\n",
       " {'name': 'Tom Hatch', 'barreledBall': 0},\n",
       " {'name': 'Rowdy Tellez', 'barreledBall': 235},\n",
       " {'name': 'Riley Adams', 'barreledBall': 0},\n",
       " {'name': 'Dustin Pedroia', 'barreledBall': 17},\n",
       " {'name': 'Gabriel Moreno', 'barreledBall': 0},\n",
       " {'name': 'Anthony Castro', 'barreledBall': 0},\n",
       " {'name': 'Travis Lakins Sr.', 'barreledBall': 0},\n",
       " {'name': 'Aaron Hicks', 'barreledBall': 129},\n",
       " {'name': 'Austin Brice', 'barreledBall': 0},\n",
       " {'name': 'Randal Grichuk', 'barreledBall': 380},\n",
       " {'name': 'Jonathan AraÃºz', 'barreledBall': 0},\n",
       " {'name': 'Garrett Whitlock', 'barreledBall': 0},\n",
       " {'name': 'Shawn Armstrong', 'barreledBall': 0},\n",
       " {'name': 'Ryan Brasier', 'barreledBall': 0},\n",
       " {'name': 'Phillips Valdez', 'barreledBall': 0},\n",
       " {'name': 'Chris Sale', 'barreledBall': 0},\n",
       " {'name': 'Nathan Eovaldi', 'barreledBall': 1},\n",
       " {'name': 'Anthony Kay', 'barreledBall': 0},\n",
       " {'name': 'Alex Verdugo', 'barreledBall': 279},\n",
       " {'name': 'Randy Arozarena', 'barreledBall': 14},\n",
       " {'name': 'Alejandro Kirk', 'barreledBall': 0},\n",
       " {'name': 'Trevor Richards', 'barreledBall': 12},\n",
       " {'name': 'Nick Anderson', 'barreledBall': 0},\n",
       " {'name': 'Gleyber Torres', 'barreledBall': 384},\n",
       " {'name': 'Keegan Akin', 'barreledBall': 0},\n",
       " {'name': 'Francisco MejÃ\\xada', 'barreledBall': 144},\n",
       " {'name': 'Diego Castillo', 'barreledBall': 0},\n",
       " {'name': 'Tyler Glasnow', 'barreledBall': 1},\n",
       " {'name': 'Willy Adames', 'barreledBall': 360},\n",
       " {'name': 'Jeisson Rosario', 'barreledBall': 0},\n",
       " {'name': 'Gio Urshela', 'barreledBall': 326},\n",
       " {'name': 'Aaron Judge', 'barreledBall': 221},\n",
       " {'name': 'Bo Bichette', 'barreledBall': 142},\n",
       " {'name': 'Josh Palacios', 'barreledBall': 0},\n",
       " {'name': 'Hunter Renfroe', 'barreledBall': 262},\n",
       " {'name': 'Michael King', 'barreledBall': 0},\n",
       " {'name': 'Danny Jansen', 'barreledBall': 244},\n",
       " {'name': 'Kevin Kiermaier', 'barreledBall': 317},\n",
       " {'name': 'Eduardo RodrÃ\\xadguez', 'barreledBall': 5},\n",
       " {'name': 'Joey Wendle', 'barreledBall': 182},\n",
       " {'name': 'DJ Stewart', 'barreledBall': 89},\n",
       " {'name': 'John Curtiss', 'barreledBall': 0},\n",
       " {'name': 'Cody Reed', 'barreledBall': 0},\n",
       " {'name': 'Paul Fry', 'barreledBall': 0},\n",
       " {'name': 'Robbie Ray', 'barreledBall': 24},\n",
       " {'name': 'Tanner Scott', 'barreledBall': 0},\n",
       " {'name': 'Ryan Mountcastle', 'barreledBall': 0},\n",
       " {'name': 'Cavan Biggio', 'barreledBall': 214},\n",
       " {'name': 'Mike Zunino', 'barreledBall': 143},\n",
       " {'name': 'Chance Sisco', 'barreledBall': 98},\n",
       " {'name': 'Pedro Severino', 'barreledBall': 214},\n",
       " {'name': 'Santiago Espinal', 'barreledBall': 0},\n",
       " {'name': 'Reese McGuire', 'barreledBall': 72},\n",
       " {'name': 'Isaac Mattson', 'barreledBall': 0},\n",
       " {'name': 'Travis Shaw', 'barreledBall': 121},\n",
       " {'name': 'Bobby Dalbec', 'barreledBall': 0},\n",
       " {'name': 'Matt Andriese', 'barreledBall': 3},\n",
       " {'name': 'Kevin Plawecki', 'barreledBall': 114},\n",
       " {'name': 'Josh Taylor', 'barreledBall': 0},\n",
       " {'name': 'Michael Baumann', 'barreledBall': 0},\n",
       " {'name': 'Ross Stripling', 'barreledBall': 10},\n",
       " {'name': 'Rio Ruiz', 'barreledBall': 263},\n",
       " {'name': 'Yusniel Diaz', 'barreledBall': 0},\n",
       " {'name': 'Jorge LÃ³pez', 'barreledBall': 1},\n",
       " {'name': 'A.J. Cole', 'barreledBall': 0},\n",
       " {'name': 'Manuel Margot', 'barreledBall': 285},\n",
       " {'name': 'Yandy DÃ\\xadaz', 'barreledBall': 234},\n",
       " {'name': 'Austin Meadows', 'barreledBall': 368},\n",
       " {'name': 'Tyler Wade', 'barreledBall': 53},\n",
       " {'name': 'Brandon Lowe', 'barreledBall': 171},\n",
       " {'name': 'JosÃ© Iglesias', 'barreledBall': 396},\n",
       " {'name': 'Alex Cobb', 'barreledBall': 0},\n",
       " {'name': 'Mike Brosseau', 'barreledBall': 88},\n",
       " {'name': 'Nick Pivetta', 'barreledBall': 4},\n",
       " {'name': 'Anthony Santander', 'barreledBall': 260},\n",
       " {'name': 'Cesar Valdez', 'barreledBall': 0},\n",
       " {'name': 'John Means', 'barreledBall': 1},\n",
       " {'name': 'Bruce Zimmermann', 'barreledBall': 0},\n",
       " {'name': 'Ryan Yarbrough', 'barreledBall': 0},\n",
       " {'name': 'Matt Barnes', 'barreledBall': 0},\n",
       " {'name': 'Michael Wacha', 'barreledBall': 12},\n",
       " {'name': 'Chris Davis', 'barreledBall': 166},\n",
       " {'name': 'Trey Mancini', 'barreledBall': 431},\n",
       " {'name': 'Colten Brewer', 'barreledBall': 0},\n",
       " {'name': 'Rafael Dolis', 'barreledBall': 0},\n",
       " {'name': 'Cole Sulser', 'barreledBall': 0},\n",
       " {'name': 'Jordan Montgomery', 'barreledBall': 0},\n",
       " {'name': 'Deivi GarcÃ\\xada', 'barreledBall': 0},\n",
       " {'name': 'Gerrit Cole', 'barreledBall': 1},\n",
       " {'name': 'Mike Ford', 'barreledBall': 105},\n",
       " {'name': 'Nate Pearson', 'barreledBall': 0},\n",
       " {'name': 'J.D. Martinez', 'barreledBall': 416},\n",
       " {'name': 'Rylan Bannon', 'barreledBall': 0},\n",
       " {'name': 'Vladimir Guerrero Jr.', 'barreledBall': 346},\n",
       " {'name': 'Cedric Mullins', 'barreledBall': 43},\n",
       " {'name': 'Josh Fleming', 'barreledBall': 0},\n",
       " {'name': 'Rafael Devers', 'barreledBall': 468}]"
      ]
     },
     "execution_count": 102,
     "metadata": {},
     "output_type": "execute_result"
    }
   ],
   "source": []
  },
  {
   "cell_type": "code",
   "execution_count": 11,
   "metadata": {},
   "outputs": [
    {
     "ename": "NameError",
     "evalue": "name 'hitter_data_list' is not defined",
     "output_type": "error",
     "traceback": [
      "\u001b[1;31m---------------------------------------------------------------------------\u001b[0m",
      "\u001b[1;31mNameError\u001b[0m                                 Traceback (most recent call last)",
      "\u001b[1;32m<ipython-input-11-969678fee89b>\u001b[0m in \u001b[0;36m<module>\u001b[1;34m\u001b[0m\n\u001b[1;32m----> 1\u001b[1;33m \u001b[0mseason\u001b[0m \u001b[1;33m=\u001b[0m \u001b[0mgetSeasonByYear\u001b[0m\u001b[1;33m(\u001b[0m\u001b[0mhitter_data_list\u001b[0m\u001b[1;33m[\u001b[0m\u001b[1;36m1\u001b[0m\u001b[1;33m]\u001b[0m\u001b[1;33m,\u001b[0m \u001b[0mseason_year\u001b[0m\u001b[1;33m)\u001b[0m\u001b[1;33m\u001b[0m\u001b[1;33m\u001b[0m\u001b[0m\n\u001b[0m",
      "\u001b[1;31mNameError\u001b[0m: name 'hitter_data_list' is not defined"
     ]
    }
   ],
   "source": [
    "season = getSeasonByYear(hitter_data_list[1], season_year)"
   ]
  },
  {
   "cell_type": "code",
   "execution_count": 24,
   "metadata": {},
   "outputs": [
    {
     "data": {
      "text/plain": [
       "0"
      ]
     },
     "execution_count": 24,
     "metadata": {},
     "output_type": "execute_result"
    }
   ],
   "source": [
    "getBarreledBall(season)"
   ]
  },
  {
   "cell_type": "code",
   "execution_count": null,
   "metadata": {},
   "outputs": [],
   "source": []
  },
  {
   "cell_type": "code",
   "execution_count": 14,
   "metadata": {},
   "outputs": [
    {
     "data": {
      "text/plain": [
       "{}"
      ]
     },
     "execution_count": 14,
     "metadata": {},
     "output_type": "execute_result"
    }
   ],
   "source": [
    "getSeasonByYear(hitter_data_list[1],2019,seasonType ='REG')"
   ]
  },
  {
   "cell_type": "code",
   "execution_count": null,
   "metadata": {},
   "outputs": [],
   "source": []
  }
 ],
 "metadata": {
  "kernelspec": {
   "display_name": "Python 3",
   "language": "python",
   "name": "python3"
  },
  "language_info": {
   "codemirror_mode": {
    "name": "ipython",
    "version": 3
   },
   "file_extension": ".py",
   "mimetype": "text/x-python",
   "name": "python",
   "nbconvert_exporter": "python",
   "pygments_lexer": "ipython3",
   "version": "3.8.3"
  }
 },
 "nbformat": 4,
 "nbformat_minor": 4
}
