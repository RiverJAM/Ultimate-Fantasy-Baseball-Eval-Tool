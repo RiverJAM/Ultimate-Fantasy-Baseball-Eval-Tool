{
 "cells": [
  {
   "cell_type": "raw",
   "metadata": {},
   "source": [
    "This code imports statcast data from our mongodb.  It creates 2 functions which pull season data\n",
    "then creates a second function to get to the barreled ball data itslef"
   ]
  },
  {
   "cell_type": "code",
   "execution_count": 6,
   "metadata": {},
   "outputs": [],
   "source": [
    "\n",
    "from flask import Flask, render_template, redirect, jsonify\n",
    "from flask_pymongo import PyMongo\n",
    "# import scrape_mars\n",
    "import json\n",
    "from bson.objectid import ObjectId\n",
    "from bson import json_util\n",
    "from bson import ObjectId"
   ]
  },
  {
   "cell_type": "code",
   "execution_count": 7,
   "metadata": {},
   "outputs": [],
   "source": [
    "app = Flask(__name__,static_url_path=\"/static\",static_folder=\"static\")\n",
    "mongo = PyMongo(app, uri=\"mongodb://localhost:27017/Ultimate_Baseball_Project\")"
   ]
  },
  {
   "cell_type": "code",
   "execution_count": 8,
   "metadata": {},
   "outputs": [],
   "source": [
    "hitter_data = mongo.db.statcast.find()"
   ]
  },
  {
   "cell_type": "code",
   "execution_count": 9,
   "metadata": {},
   "outputs": [],
   "source": [
    "hitter_data_list = list(hitter_data)"
   ]
  },
  {
   "cell_type": "code",
   "execution_count": 10,
   "metadata": {},
   "outputs": [
    {
     "data": {
      "text/plain": [
       "130"
      ]
     },
     "execution_count": 10,
     "metadata": {},
     "output_type": "execute_result"
    }
   ],
   "source": [
    "len(hitter_data_list)"
   ]
  },
  {
   "cell_type": "code",
   "execution_count": 11,
   "metadata": {},
   "outputs": [],
   "source": [
    "def getSeasonByYear(player,year,seasonType ='REG'):\n",
    "    seasons = player.get('seasons', [])\n",
    "    for season in seasons:\n",
    "        if(season.get('year',0) == year and season.get('type','N/A') == seasonType):\n",
    "            return season;\n",
    "    return {}"
   ]
  },
  {
   "cell_type": "code",
   "execution_count": 12,
   "metadata": {},
   "outputs": [],
   "source": [
    "def getBarreledBall(season):\n",
    "    totals = season.get('totals', {})\n",
    "    statcast_metrics = totals.get('statcast_metrics', {})\n",
    "    hitting = statcast_metrics.get('hitting', {})\n",
    "    overall = hitting.get('overall', {})\n",
    "    for item in overall:\n",
    "        if 'barreled_ball' in item.keys():\n",
    "            return item.get('barreled_ball', {}).get('count', 0)\n",
    "    return 0"
   ]
  },
  {
   "cell_type": "code",
   "execution_count": 13,
   "metadata": {},
   "outputs": [],
   "source": [
    "season_year = 2020"
   ]
  },
  {
   "cell_type": "code",
   "execution_count": 14,
   "metadata": {},
   "outputs": [],
   "source": [
    "data = []"
   ]
  },
  {
   "cell_type": "code",
   "execution_count": 15,
   "metadata": {},
   "outputs": [
    {
     "name": "stdout",
     "output_type": "stream",
     "text": [
      "{'name': 'Ronaldo HernÃ¡ndez'}\n",
      "{'name': 'Michael Chavis'}\n",
      "{'name': 'Hyun Jin Ryu'}\n",
      "{'name': 'Ryan Thompson'}\n",
      "{'name': 'RamÃ³n UrÃ\\xadas'}\n",
      "{'name': 'Otto Lopez'}\n",
      "{'name': 'Yoshi Tsutsugo'}\n",
      "{'name': 'Luke Voit'}\n",
      "{'name': 'Christian VÃ¡zquez'}\n",
      "{'name': 'Hunter Harvey'}\n",
      "{'name': 'Andrew Benintendi'}\n",
      "{'name': 'Austin Hays'}\n",
      "{'name': 'Ji-Man Choi'}\n",
      "{'name': 'Zac Lowther'}\n",
      "{'name': 'Jonathan Davis'}\n",
      "{'name': 'Pat Valaika'}\n",
      "{'name': 'Hanser Alberto'}\n",
      "{'name': 'Teoscar HernÃ¡ndez'}\n",
      "{'name': 'Tanner Houck'}\n",
      "{'name': 'Ty Tice'}\n",
      "{'name': 'Christian Arroyo'}\n",
      "{'name': 'Clint Frazier'}\n",
      "{'name': 'Brett Phillips'}\n",
      "{'name': 'Lourdes Gurriel Jr.'}\n",
      "{'name': 'Richie Martin'}\n",
      "{'name': 'Chris Mazza'}\n",
      "{'name': 'Mike Tauchman'}\n",
      "{'name': 'Xander Bogaerts'}\n",
      "{'name': 'Pete Fairbanks'}\n",
      "{'name': 'Darwinzon Hernandez'}\n",
      "{'name': 'Ryan Borucki'}\n",
      "{'name': 'Alexander Wells'}\n",
      "{'name': 'Thairo Estrada'}\n",
      "{'name': 'Tom Hatch'}\n",
      "{'name': 'Rowdy Tellez'}\n",
      "{'name': 'Riley Adams'}\n",
      "{'name': 'Dustin Pedroia'}\n",
      "{'name': 'Gabriel Moreno'}\n",
      "{'name': 'Anthony Castro'}\n",
      "{'name': 'Travis Lakins Sr.'}\n",
      "{'name': 'Aaron Hicks'}\n",
      "{'name': 'Austin Brice'}\n",
      "{'name': 'Randal Grichuk'}\n",
      "{'name': 'Jonathan AraÃºz'}\n",
      "{'name': 'Garrett Whitlock'}\n",
      "{'name': 'Shawn Armstrong'}\n",
      "{'name': 'Ryan Brasier'}\n",
      "{'name': 'Phillips Valdez'}\n",
      "{'name': 'Chris Sale'}\n",
      "{'name': 'Nathan Eovaldi'}\n",
      "{'name': 'Anthony Kay'}\n",
      "{'name': 'Alex Verdugo'}\n",
      "{'name': 'Randy Arozarena'}\n",
      "{'name': 'Alejandro Kirk'}\n",
      "{'name': 'Trevor Richards'}\n",
      "{'name': 'Nick Anderson'}\n",
      "{'name': 'Gleyber Torres'}\n",
      "{'name': 'Keegan Akin'}\n",
      "{'name': 'Francisco MejÃ\\xada'}\n",
      "{'name': 'Diego Castillo'}\n",
      "{'name': 'Tyler Glasnow'}\n",
      "{'name': 'Willy Adames'}\n",
      "{'name': 'Jeisson Rosario'}\n",
      "{'name': 'Gio Urshela'}\n",
      "{'name': 'Aaron Judge'}\n",
      "{'name': 'Bo Bichette'}\n",
      "{'name': 'Josh Palacios'}\n",
      "{'name': 'Hunter Renfroe'}\n",
      "{'name': 'Michael King'}\n",
      "{'name': 'Danny Jansen'}\n",
      "{'name': 'Kevin Kiermaier'}\n",
      "{'name': 'Eduardo RodrÃ\\xadguez'}\n",
      "{'name': 'Joey Wendle'}\n",
      "{'name': 'DJ Stewart'}\n",
      "{'name': 'John Curtiss'}\n",
      "{'name': 'Cody Reed'}\n",
      "{'name': 'Paul Fry'}\n",
      "{'name': 'Robbie Ray'}\n",
      "{'name': 'Tanner Scott'}\n",
      "{'name': 'Ryan Mountcastle'}\n",
      "{'name': 'Cavan Biggio'}\n",
      "{'name': 'Mike Zunino'}\n",
      "{'name': 'Chance Sisco'}\n",
      "{'name': 'Pedro Severino'}\n",
      "{'name': 'Santiago Espinal'}\n",
      "{'name': 'Reese McGuire'}\n",
      "{'name': 'Isaac Mattson'}\n",
      "{'name': 'Travis Shaw'}\n",
      "{'name': 'Bobby Dalbec'}\n",
      "{'name': 'Matt Andriese'}\n",
      "{'name': 'Kevin Plawecki'}\n",
      "{'name': 'Josh Taylor'}\n",
      "{'name': 'Michael Baumann'}\n",
      "{'name': 'Ross Stripling'}\n",
      "{'name': 'Rio Ruiz'}\n",
      "{'name': 'Yusniel Diaz'}\n",
      "{'name': 'Jorge LÃ³pez'}\n",
      "{'name': 'A.J. Cole'}\n",
      "{'name': 'Manuel Margot'}\n",
      "{'name': 'Yandy DÃ\\xadaz'}\n",
      "{'name': 'Austin Meadows'}\n",
      "{'name': 'Tyler Wade'}\n",
      "{'name': 'Brandon Lowe'}\n",
      "{'name': 'JosÃ© Iglesias'}\n",
      "{'name': 'Alex Cobb'}\n",
      "{'name': 'Mike Brosseau'}\n",
      "{'name': 'Nick Pivetta'}\n",
      "{'name': 'Anthony Santander'}\n",
      "{'name': 'Cesar Valdez'}\n",
      "{'name': 'John Means'}\n",
      "{'name': 'Bruce Zimmermann'}\n",
      "{'name': 'Ryan Yarbrough'}\n",
      "{'name': 'Matt Barnes'}\n",
      "{'name': 'Michael Wacha'}\n",
      "{'name': 'Chris Davis'}\n",
      "{'name': 'Trey Mancini'}\n",
      "{'name': 'Colten Brewer'}\n",
      "{'name': 'Rafael Dolis'}\n",
      "{'name': 'Cole Sulser'}\n",
      "{'name': 'Jordan Montgomery'}\n",
      "{'name': 'Deivi GarcÃ\\xada'}\n",
      "{'name': 'Gerrit Cole'}\n",
      "{'name': 'Mike Ford'}\n",
      "{'name': 'Nate Pearson'}\n",
      "{'name': 'J.D. Martinez'}\n",
      "{'name': 'Rylan Bannon'}\n",
      "{'name': 'Vladimir Guerrero Jr.'}\n",
      "{'name': 'Cedric Mullins'}\n",
      "{'name': 'Josh Fleming'}\n",
      "{'name': 'Rafael Devers'}\n"
     ]
    }
   ],
   "source": [
    "for player_dict in hitter_data_list:\n",
    "    player =  player_dict.get(\"player\",{})\n",
    "    item = {}\n",
    "    item[\"name\"] = player.get(\"full_name\",\"N/A\")\n",
    "    print(item)\n",
    "    season = getSeasonByYear(player, season_year)\n",
    "  \n",
    "    item[\"barreledBall\"] = getBarreledBall(season)\n",
    "    data.append(item)"
   ]
  },
  {
   "cell_type": "code",
   "execution_count": 16,
   "metadata": {},
   "outputs": [
    {
     "data": {
      "text/plain": [
       "[{'name': 'Ronaldo HernÃ¡ndez', 'barreledBall': 0},\n",
       " {'name': 'Michael Chavis', 'barreledBall': 94},\n",
       " {'name': 'Hyun Jin Ryu', 'barreledBall': 0},\n",
       " {'name': 'Ryan Thompson', 'barreledBall': 0},\n",
       " {'name': 'RamÃ³n UrÃ\\xadas', 'barreledBall': 16},\n",
       " {'name': 'Otto Lopez', 'barreledBall': 0},\n",
       " {'name': 'Yoshi Tsutsugo', 'barreledBall': 136},\n",
       " {'name': 'Luke Voit', 'barreledBall': 200},\n",
       " {'name': 'Christian VÃ¡zquez', 'barreledBall': 130},\n",
       " {'name': 'Hunter Harvey', 'barreledBall': 0},\n",
       " {'name': 'Andrew Benintendi', 'barreledBall': 23},\n",
       " {'name': 'Austin Hays', 'barreledBall': 0},\n",
       " {'name': 'Ji-Man Choi', 'barreledBall': 135},\n",
       " {'name': 'Zac Lowther', 'barreledBall': 0},\n",
       " {'name': 'Jonathan Davis', 'barreledBall': 15},\n",
       " {'name': 'Pat Valaika', 'barreledBall': 105},\n",
       " {'name': 'Hanser Alberto', 'barreledBall': 189},\n",
       " {'name': 'Teoscar HernÃ¡ndez', 'barreledBall': 150},\n",
       " {'name': 'Tanner Houck', 'barreledBall': 0},\n",
       " {'name': 'Ty Tice', 'barreledBall': 0},\n",
       " {'name': 'Christian Arroyo', 'barreledBall': 39},\n",
       " {'name': 'Clint Frazier', 'barreledBall': 114},\n",
       " {'name': 'Brett Phillips', 'barreledBall': 56},\n",
       " {'name': 'Lourdes Gurriel Jr.', 'barreledBall': 194},\n",
       " {'name': 'Richie Martin', 'barreledBall': 0},\n",
       " {'name': 'Chris Mazza', 'barreledBall': 0},\n",
       " {'name': 'Mike Tauchman', 'barreledBall': 95},\n",
       " {'name': 'Xander Bogaerts', 'barreledBall': 161},\n",
       " {'name': 'Pete Fairbanks', 'barreledBall': 0},\n",
       " {'name': 'Darwinzon Hernandez', 'barreledBall': 0},\n",
       " {'name': 'Ryan Borucki', 'barreledBall': 0},\n",
       " {'name': 'Alexander Wells', 'barreledBall': 0},\n",
       " {'name': 'Thairo Estrada', 'barreledBall': 29},\n",
       " {'name': 'Tom Hatch', 'barreledBall': 0},\n",
       " {'name': 'Rowdy Tellez', 'barreledBall': 109},\n",
       " {'name': 'Riley Adams', 'barreledBall': 0},\n",
       " {'name': 'Dustin Pedroia', 'barreledBall': 0},\n",
       " {'name': 'Gabriel Moreno', 'barreledBall': 0},\n",
       " {'name': 'Anthony Castro', 'barreledBall': 0},\n",
       " {'name': 'Travis Lakins Sr.', 'barreledBall': 0},\n",
       " {'name': 'Aaron Hicks', 'barreledBall': 156},\n",
       " {'name': 'Austin Brice', 'barreledBall': 0},\n",
       " {'name': 'Randal Grichuk', 'barreledBall': 192},\n",
       " {'name': 'Jonathan AraÃºz', 'barreledBall': 0},\n",
       " {'name': 'Garrett Whitlock', 'barreledBall': 0},\n",
       " {'name': 'Shawn Armstrong', 'barreledBall': 0},\n",
       " {'name': 'Ryan Brasier', 'barreledBall': 0},\n",
       " {'name': 'Phillips Valdez', 'barreledBall': 0},\n",
       " {'name': 'Chris Sale', 'barreledBall': 0},\n",
       " {'name': 'Nathan Eovaldi', 'barreledBall': 0},\n",
       " {'name': 'Anthony Kay', 'barreledBall': 0},\n",
       " {'name': 'Alex Verdugo', 'barreledBall': 157},\n",
       " {'name': 'Randy Arozarena', 'barreledBall': 119},\n",
       " {'name': 'Alejandro Kirk', 'barreledBall': 31},\n",
       " {'name': 'Trevor Richards', 'barreledBall': 0},\n",
       " {'name': 'Nick Anderson', 'barreledBall': 0},\n",
       " {'name': 'Gleyber Torres', 'barreledBall': 157},\n",
       " {'name': 'Keegan Akin', 'barreledBall': 0},\n",
       " {'name': 'Francisco MejÃ\\xada', 'barreledBall': 0},\n",
       " {'name': 'Diego Castillo', 'barreledBall': 0},\n",
       " {'name': 'Tyler Glasnow', 'barreledBall': 0},\n",
       " {'name': 'Willy Adames', 'barreledBall': 160},\n",
       " {'name': 'Jeisson Rosario', 'barreledBall': 0},\n",
       " {'name': 'Gio Urshela', 'barreledBall': 178},\n",
       " {'name': 'Aaron Judge', 'barreledBall': 96},\n",
       " {'name': 'Bo Bichette', 'barreledBall': 130},\n",
       " {'name': 'Josh Palacios', 'barreledBall': 0},\n",
       " {'name': 'Hunter Renfroe', 'barreledBall': 121},\n",
       " {'name': 'Michael King', 'barreledBall': 0},\n",
       " {'name': 'Danny Jansen', 'barreledBall': 117},\n",
       " {'name': 'Kevin Kiermaier', 'barreledBall': 152},\n",
       " {'name': 'Eduardo RodrÃ\\xadguez', 'barreledBall': 0},\n",
       " {'name': 'Joey Wendle', 'barreledBall': 196},\n",
       " {'name': 'DJ Stewart', 'barreledBall': 49},\n",
       " {'name': 'John Curtiss', 'barreledBall': 0},\n",
       " {'name': 'Cody Reed', 'barreledBall': 0},\n",
       " {'name': 'Paul Fry', 'barreledBall': 0},\n",
       " {'name': 'Robbie Ray', 'barreledBall': 0},\n",
       " {'name': 'Tanner Scott', 'barreledBall': 0},\n",
       " {'name': 'Ryan Mountcastle', 'barreledBall': 94},\n",
       " {'name': 'Cavan Biggio', 'barreledBall': 184},\n",
       " {'name': 'Mike Zunino', 'barreledBall': 75},\n",
       " {'name': 'Chance Sisco', 'barreledBall': 55},\n",
       " {'name': 'Pedro Severino', 'barreledBall': 0},\n",
       " {'name': 'Santiago Espinal', 'barreledBall': 46},\n",
       " {'name': 'Reese McGuire', 'barreledBall': 46},\n",
       " {'name': 'Isaac Mattson', 'barreledBall': 0},\n",
       " {'name': 'Travis Shaw', 'barreledBall': 130},\n",
       " {'name': 'Bobby Dalbec', 'barreledBall': 40},\n",
       " {'name': 'Matt Andriese', 'barreledBall': 0},\n",
       " {'name': 'Kevin Plawecki', 'barreledBall': 67},\n",
       " {'name': 'Josh Taylor', 'barreledBall': 0},\n",
       " {'name': 'Michael Baumann', 'barreledBall': 0},\n",
       " {'name': 'Ross Stripling', 'barreledBall': 0},\n",
       " {'name': 'Rio Ruiz', 'barreledBall': 138},\n",
       " {'name': 'Yusniel Diaz', 'barreledBall': 0},\n",
       " {'name': 'Jorge LÃ³pez', 'barreledBall': 0},\n",
       " {'name': 'A.J. Cole', 'barreledBall': 0},\n",
       " {'name': 'Manuel Margot', 'barreledBall': 178},\n",
       " {'name': 'Yandy DÃ\\xadaz', 'barreledBall': 147},\n",
       " {'name': 'Austin Meadows', 'barreledBall': 135},\n",
       " {'name': 'Tyler Wade', 'barreledBall': 92},\n",
       " {'name': 'Brandon Lowe', 'barreledBall': 197},\n",
       " {'name': 'JosÃ© Iglesias', 'barreledBall': 0},\n",
       " {'name': 'Alex Cobb', 'barreledBall': 0},\n",
       " {'name': 'Mike Brosseau', 'barreledBall': 88},\n",
       " {'name': 'Nick Pivetta', 'barreledBall': 0},\n",
       " {'name': 'Anthony Santander', 'barreledBall': 128},\n",
       " {'name': 'Cesar Valdez', 'barreledBall': 0},\n",
       " {'name': 'John Means', 'barreledBall': 0},\n",
       " {'name': 'Bruce Zimmermann', 'barreledBall': 0},\n",
       " {'name': 'Ryan Yarbrough', 'barreledBall': 0},\n",
       " {'name': 'Matt Barnes', 'barreledBall': 0},\n",
       " {'name': 'Michael Wacha', 'barreledBall': 0},\n",
       " {'name': 'Chris Davis', 'barreledBall': 0},\n",
       " {'name': 'Trey Mancini', 'barreledBall': 0},\n",
       " {'name': 'Colten Brewer', 'barreledBall': 0},\n",
       " {'name': 'Rafael Dolis', 'barreledBall': 0},\n",
       " {'name': 'Cole Sulser', 'barreledBall': 0},\n",
       " {'name': 'Jordan Montgomery', 'barreledBall': 0},\n",
       " {'name': 'Deivi GarcÃ\\xada', 'barreledBall': 0},\n",
       " {'name': 'Gerrit Cole', 'barreledBall': 0},\n",
       " {'name': 'Mike Ford', 'barreledBall': 90},\n",
       " {'name': 'Nate Pearson', 'barreledBall': 0},\n",
       " {'name': 'J.D. Martinez', 'barreledBall': 150},\n",
       " {'name': 'Rylan Bannon', 'barreledBall': 0},\n",
       " {'name': 'Vladimir Guerrero Jr.', 'barreledBall': 211},\n",
       " {'name': 'Cedric Mullins', 'barreledBall': 103},\n",
       " {'name': 'Josh Fleming', 'barreledBall': 0},\n",
       " {'name': 'Rafael Devers', 'barreledBall': 161}]"
      ]
     },
     "execution_count": 16,
     "metadata": {},
     "output_type": "execute_result"
    }
   ],
   "source": [
    "data"
   ]
  },
  {
   "cell_type": "code",
   "execution_count": null,
   "metadata": {},
   "outputs": [],
   "source": [
    "season = getSeasonByYear(hitter_data_list[1], season_year)"
   ]
  },
  {
   "cell_type": "code",
   "execution_count": null,
   "metadata": {},
   "outputs": [],
   "source": []
  },
  {
   "cell_type": "code",
   "execution_count": null,
   "metadata": {},
   "outputs": [],
   "source": [
    "getBarreledBall(season)"
   ]
  },
  {
   "cell_type": "code",
   "execution_count": null,
   "metadata": {},
   "outputs": [],
   "source": [
    "season"
   ]
  },
  {
   "cell_type": "code",
   "execution_count": null,
   "metadata": {},
   "outputs": [],
   "source": [
    "getSeasonByYear(hitter_data_list[1],2019,seasonType ='REG')"
   ]
  },
  {
   "cell_type": "code",
   "execution_count": null,
   "metadata": {},
   "outputs": [],
   "source": []
  }
 ],
 "metadata": {
  "kernelspec": {
   "display_name": "Python 3",
   "language": "python",
   "name": "python3"
  },
  "language_info": {
   "codemirror_mode": {
    "name": "ipython",
    "version": 3
   },
   "file_extension": ".py",
   "mimetype": "text/x-python",
   "name": "python",
   "nbconvert_exporter": "python",
   "pygments_lexer": "ipython3",
   "version": "3.8.3"
  }
 },
 "nbformat": 4,
 "nbformat_minor": 4
}
