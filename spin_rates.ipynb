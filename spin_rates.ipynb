{
 "cells": [
  {
   "cell_type": "raw",
   "metadata": {},
   "source": [
    "This code imports statcast data from our mongodb.  It creates 2 functions which pull season data\n",
    "then creates a second function to get to the barreled ball data itslef"
   ]
  },
  {
   "cell_type": "code",
   "execution_count": 1,
   "metadata": {},
   "outputs": [],
   "source": [
    "\n",
    "from flask import Flask, render_template, redirect, jsonify\n",
    "from flask_pymongo import PyMongo\n",
    "# import scrape_mars\n",
    "import json\n",
    "from bson.objectid import ObjectId\n",
    "from bson import json_util\n",
    "from bson import ObjectId"
   ]
  },
  {
   "cell_type": "code",
   "execution_count": 2,
   "metadata": {},
   "outputs": [],
   "source": [
    "app = Flask(__name__,static_url_path=\"/static\",static_folder=\"static\")\n",
    "mongo = PyMongo(app, uri=\"mongodb://localhost:27017/Ultimate_Baseball_Project\")"
   ]
  },
  {
   "cell_type": "code",
   "execution_count": 3,
   "metadata": {},
   "outputs": [],
   "source": [
    "pitcher_data = mongo.db.statcast.find()"
   ]
  },
  {
   "cell_type": "code",
   "execution_count": 4,
   "metadata": {},
   "outputs": [],
   "source": [
    "pitcher_data_list = list(pitcher_data)"
   ]
  },
  {
   "cell_type": "code",
   "execution_count": 5,
   "metadata": {},
   "outputs": [
    {
     "data": {
      "text/plain": [
       "130"
      ]
     },
     "execution_count": 5,
     "metadata": {},
     "output_type": "execute_result"
    }
   ],
   "source": [
    "len(pitcher_data_list)"
   ]
  },
  {
   "cell_type": "code",
   "execution_count": 6,
   "metadata": {},
   "outputs": [],
   "source": [
    "def getSeasonByYear(player,year,seasonType ='REG'):\n",
    "    seasons = player.get('seasons', [])\n",
    "    for season in seasons:\n",
    "        if(season.get('year',0) == year and season.get('type','N/A') == seasonType):\n",
    "            return season;\n",
    "    return {}"
   ]
  },
  {
   "cell_type": "code",
   "execution_count": 7,
   "metadata": {},
   "outputs": [],
   "source": [
    "def getPitch_data(season, pitch):\n",
    "    totals = season.get('totals', {})\n",
    "    statcast_metrics = totals.get('statcast_metrics', {})\n",
    "    pitching = statcast_metrics.get('pitching', {})\n",
    "    types = pitching.get('pitch_types', {})\n",
    "    for pitches in types:\n",
    "        if(pitches.get('type', 0 ) == pitch):\n",
    "            return pitches\n",
    "    return {}"
   ]
  },
  {
   "cell_type": "code",
   "execution_count": 8,
   "metadata": {},
   "outputs": [],
   "source": [
    "def getSpins(pitch_data):\n",
    "    spin_rate = pitch_data.get('release_spin_rate', {})\n",
    "    spin_rate_avg = spin_rate.get('avg', \"N/A\")\n",
    "#     print(spin_rate_avg)\n",
    "    return (spin_rate_avg)\n",
    "        "
   ]
  },
  {
   "cell_type": "code",
   "execution_count": 9,
   "metadata": {},
   "outputs": [],
   "source": [
    "season_year = 2020\n",
    "pitches = [\"Four-seam FB\", \"Slider\", \"Cutter\", \"Changeup\", \"Curveball\", \"Sinker\", \"Two-seam FB\"]"
   ]
  },
  {
   "cell_type": "code",
   "execution_count": 10,
   "metadata": {},
   "outputs": [],
   "source": [
    "data = []"
   ]
  },
  {
   "cell_type": "code",
   "execution_count": 11,
   "metadata": {},
   "outputs": [],
   "source": [
    "for player_dict in pitcher_data_list:\n",
    "        player =  player_dict.get(\"player\",{})\n",
    "        item = {}\n",
    "        item[\"name\"] = player.get(\"full_name\",\"N/A\")\n",
    "    #     print(item)\n",
    "        season = getSeasonByYear(player, season_year)\n",
    "    #     print(season)\n",
    "        for pitch in pitches:\n",
    "            pitches_data = getPitch_data(season, pitch)\n",
    "        #     print(pitches_data)\n",
    "            item[pitch] = getSpins(pitches_data)\n",
    "        #     print(item[\"avg_spin_rate\"])\n",
    "        data.append(item)"
   ]
  },
  {
   "cell_type": "code",
   "execution_count": 12,
   "metadata": {},
   "outputs": [
    {
     "name": "stdout",
     "output_type": "stream",
     "text": [
      "[{'name': 'Ronaldo HernÃ¡ndez', 'Four-seam FB': 'N/A', 'Slider': 'N/A', 'Cutter': 'N/A', 'Changeup': 'N/A', 'Curveball': 'N/A', 'Sinker': 'N/A', 'Two-seam FB': 'N/A'}, {'name': 'Michael Chavis', 'Four-seam FB': 'N/A', 'Slider': 'N/A', 'Cutter': 'N/A', 'Changeup': 'N/A', 'Curveball': 'N/A', 'Sinker': 'N/A', 'Two-seam FB': 'N/A'}, {'name': 'Hyun Jin Ryu', 'Four-seam FB': 1995.0, 'Slider': 1902.0, 'Cutter': 2024.0, 'Changeup': 1478.0, 'Curveball': 2537.0, 'Sinker': 1951.0, 'Two-seam FB': 1906.0}, {'name': 'Ryan Thompson', 'Four-seam FB': 2132.0, 'Slider': 2173.0, 'Cutter': 'N/A', 'Changeup': 1262.0, 'Curveball': 2100.0, 'Sinker': 1913.0, 'Two-seam FB': 1856.0}, {'name': 'RamÃ³n UrÃ\\xadas', 'Four-seam FB': 'N/A', 'Slider': 'N/A', 'Cutter': 'N/A', 'Changeup': 'N/A', 'Curveball': 'N/A', 'Sinker': 'N/A', 'Two-seam FB': 'N/A'}, {'name': 'Otto Lopez', 'Four-seam FB': 'N/A', 'Slider': 'N/A', 'Cutter': 'N/A', 'Changeup': 'N/A', 'Curveball': 'N/A', 'Sinker': 'N/A', 'Two-seam FB': 'N/A'}, {'name': 'Yoshi Tsutsugo', 'Four-seam FB': 'N/A', 'Slider': 'N/A', 'Cutter': 'N/A', 'Changeup': 'N/A', 'Curveball': 'N/A', 'Sinker': 'N/A', 'Two-seam FB': 'N/A'}, {'name': 'Luke Voit', 'Four-seam FB': 'N/A', 'Slider': 'N/A', 'Cutter': 'N/A', 'Changeup': 'N/A', 'Curveball': 'N/A', 'Sinker': 'N/A', 'Two-seam FB': 'N/A'}, {'name': 'Christian VÃ¡zquez', 'Four-seam FB': 'N/A', 'Slider': 'N/A', 'Cutter': 'N/A', 'Changeup': 'N/A', 'Curveball': 'N/A', 'Sinker': 'N/A', 'Two-seam FB': 'N/A'}, {'name': 'Hunter Harvey', 'Four-seam FB': 2102.0, 'Slider': 2027.0, 'Cutter': 'N/A', 'Changeup': 1537.0, 'Curveball': 2200.0, 'Sinker': 'N/A', 'Two-seam FB': 1395.0}, {'name': 'Andrew Benintendi', 'Four-seam FB': 'N/A', 'Slider': 'N/A', 'Cutter': 'N/A', 'Changeup': 'N/A', 'Curveball': 'N/A', 'Sinker': 'N/A', 'Two-seam FB': 'N/A'}, {'name': 'Austin Hays', 'Four-seam FB': 'N/A', 'Slider': 'N/A', 'Cutter': 'N/A', 'Changeup': 'N/A', 'Curveball': 'N/A', 'Sinker': 'N/A', 'Two-seam FB': 'N/A'}, {'name': 'Ji-Man Choi', 'Four-seam FB': 'N/A', 'Slider': 'N/A', 'Cutter': 'N/A', 'Changeup': 'N/A', 'Curveball': 'N/A', 'Sinker': 'N/A', 'Two-seam FB': 'N/A'}, {'name': 'Zac Lowther', 'Four-seam FB': 'N/A', 'Slider': 'N/A', 'Cutter': 'N/A', 'Changeup': 'N/A', 'Curveball': 'N/A', 'Sinker': 'N/A', 'Two-seam FB': 'N/A'}, {'name': 'Jonathan Davis', 'Four-seam FB': 'N/A', 'Slider': 'N/A', 'Cutter': 'N/A', 'Changeup': 'N/A', 'Curveball': 'N/A', 'Sinker': 'N/A', 'Two-seam FB': 'N/A'}, {'name': 'Pat Valaika', 'Four-seam FB': 'N/A', 'Slider': 'N/A', 'Cutter': 'N/A', 'Changeup': 'N/A', 'Curveball': 'N/A', 'Sinker': 'N/A', 'Two-seam FB': 'N/A'}, {'name': 'Hanser Alberto', 'Four-seam FB': 'N/A', 'Slider': 'N/A', 'Cutter': 'N/A', 'Changeup': 'N/A', 'Curveball': 'N/A', 'Sinker': 'N/A', 'Two-seam FB': 'N/A'}, {'name': 'Teoscar HernÃ¡ndez', 'Four-seam FB': 'N/A', 'Slider': 'N/A', 'Cutter': 'N/A', 'Changeup': 'N/A', 'Curveball': 'N/A', 'Sinker': 'N/A', 'Two-seam FB': 'N/A'}, {'name': 'Tanner Houck', 'Four-seam FB': 2023.0, 'Slider': 2441.0, 'Cutter': 'N/A', 'Changeup': 1455.0, 'Curveball': 'N/A', 'Sinker': 2080.0, 'Two-seam FB': 'N/A'}, {'name': 'Ty Tice', 'Four-seam FB': 'N/A', 'Slider': 'N/A', 'Cutter': 'N/A', 'Changeup': 'N/A', 'Curveball': 'N/A', 'Sinker': 'N/A', 'Two-seam FB': 'N/A'}, {'name': 'Christian Arroyo', 'Four-seam FB': 'N/A', 'Slider': 'N/A', 'Cutter': 'N/A', 'Changeup': 'N/A', 'Curveball': 'N/A', 'Sinker': 'N/A', 'Two-seam FB': 'N/A'}, {'name': 'Clint Frazier', 'Four-seam FB': 'N/A', 'Slider': 'N/A', 'Cutter': 'N/A', 'Changeup': 'N/A', 'Curveball': 'N/A', 'Sinker': 'N/A', 'Two-seam FB': 'N/A'}, {'name': 'Brett Phillips', 'Four-seam FB': 'N/A', 'Slider': 'N/A', 'Cutter': 'N/A', 'Changeup': 'N/A', 'Curveball': 'N/A', 'Sinker': 'N/A', 'Two-seam FB': 'N/A'}, {'name': 'Lourdes Gurriel Jr.', 'Four-seam FB': 'N/A', 'Slider': 'N/A', 'Cutter': 'N/A', 'Changeup': 'N/A', 'Curveball': 'N/A', 'Sinker': 'N/A', 'Two-seam FB': 'N/A'}, {'name': 'Richie Martin', 'Four-seam FB': 'N/A', 'Slider': 'N/A', 'Cutter': 'N/A', 'Changeup': 'N/A', 'Curveball': 'N/A', 'Sinker': 'N/A', 'Two-seam FB': 'N/A'}, {'name': 'Chris Mazza', 'Four-seam FB': 2075.0, 'Slider': 2370.0, 'Cutter': 2257.0, 'Changeup': 1180.0, 'Curveball': 'N/A', 'Sinker': 1845.0, 'Two-seam FB': 'N/A'}, {'name': 'Mike Tauchman', 'Four-seam FB': 'N/A', 'Slider': 'N/A', 'Cutter': 'N/A', 'Changeup': 'N/A', 'Curveball': 'N/A', 'Sinker': 'N/A', 'Two-seam FB': 'N/A'}, {'name': 'Xander Bogaerts', 'Four-seam FB': 'N/A', 'Slider': 'N/A', 'Cutter': 'N/A', 'Changeup': 'N/A', 'Curveball': 'N/A', 'Sinker': 'N/A', 'Two-seam FB': 'N/A'}, {'name': 'Pete Fairbanks', 'Four-seam FB': 2434.0, 'Slider': 2383.0, 'Cutter': 'N/A', 'Changeup': 'N/A', 'Curveball': 'N/A', 'Sinker': 2022.0, 'Two-seam FB': 'N/A'}, {'name': 'Darwinzon Hernandez', 'Four-seam FB': 2330.0, 'Slider': 2587.0, 'Cutter': 'N/A', 'Changeup': 'N/A', 'Curveball': 2933.0, 'Sinker': 'N/A', 'Two-seam FB': 'N/A'}, {'name': 'Ryan Borucki', 'Four-seam FB': 2404.0, 'Slider': 2317.0, 'Cutter': 'N/A', 'Changeup': 1981.0, 'Curveball': 'N/A', 'Sinker': 2170.0, 'Two-seam FB': 2151.0}, {'name': 'Alexander Wells', 'Four-seam FB': 'N/A', 'Slider': 'N/A', 'Cutter': 'N/A', 'Changeup': 'N/A', 'Curveball': 'N/A', 'Sinker': 'N/A', 'Two-seam FB': 'N/A'}, {'name': 'Thairo Estrada', 'Four-seam FB': 'N/A', 'Slider': 'N/A', 'Cutter': 'N/A', 'Changeup': 'N/A', 'Curveball': 'N/A', 'Sinker': 'N/A', 'Two-seam FB': 'N/A'}, {'name': 'Tom Hatch', 'Four-seam FB': 2601.0, 'Slider': 2590.0, 'Cutter': 'N/A', 'Changeup': 2041.0, 'Curveball': 'N/A', 'Sinker': 2448.0, 'Two-seam FB': 2646.0}, {'name': 'Rowdy Tellez', 'Four-seam FB': 'N/A', 'Slider': 'N/A', 'Cutter': 'N/A', 'Changeup': 'N/A', 'Curveball': 'N/A', 'Sinker': 'N/A', 'Two-seam FB': 'N/A'}, {'name': 'Riley Adams', 'Four-seam FB': 'N/A', 'Slider': 'N/A', 'Cutter': 'N/A', 'Changeup': 'N/A', 'Curveball': 'N/A', 'Sinker': 'N/A', 'Two-seam FB': 'N/A'}, {'name': 'Dustin Pedroia', 'Four-seam FB': 'N/A', 'Slider': 'N/A', 'Cutter': 'N/A', 'Changeup': 'N/A', 'Curveball': 'N/A', 'Sinker': 'N/A', 'Two-seam FB': 'N/A'}, {'name': 'Gabriel Moreno', 'Four-seam FB': 'N/A', 'Slider': 'N/A', 'Cutter': 'N/A', 'Changeup': 'N/A', 'Curveball': 'N/A', 'Sinker': 'N/A', 'Two-seam FB': 'N/A'}, {'name': 'Anthony Castro', 'Four-seam FB': 2507.0, 'Slider': 2649.0, 'Cutter': 'N/A', 'Changeup': 2169.0, 'Curveball': 2660.0, 'Sinker': 'N/A', 'Two-seam FB': 'N/A'}, {'name': 'Travis Lakins Sr.', 'Four-seam FB': 2227.0, 'Slider': 'N/A', 'Cutter': 2420.0, 'Changeup': 1552.0, 'Curveball': 2724.0, 'Sinker': 'N/A', 'Two-seam FB': 'N/A'}, {'name': 'Aaron Hicks', 'Four-seam FB': 'N/A', 'Slider': 'N/A', 'Cutter': 'N/A', 'Changeup': 'N/A', 'Curveball': 'N/A', 'Sinker': 'N/A', 'Two-seam FB': 'N/A'}, {'name': 'Austin Brice', 'Four-seam FB': 2251.0, 'Slider': 'N/A', 'Cutter': 'N/A', 'Changeup': 1733.0, 'Curveball': 2692.0, 'Sinker': 2083.0, 'Two-seam FB': 'N/A'}, {'name': 'Randal Grichuk', 'Four-seam FB': 'N/A', 'Slider': 'N/A', 'Cutter': 'N/A', 'Changeup': 'N/A', 'Curveball': 'N/A', 'Sinker': 'N/A', 'Two-seam FB': 'N/A'}, {'name': 'Jonathan AraÃºz', 'Four-seam FB': 'N/A', 'Slider': 'N/A', 'Cutter': 'N/A', 'Changeup': 'N/A', 'Curveball': 'N/A', 'Sinker': 'N/A', 'Two-seam FB': 'N/A'}, {'name': 'Garrett Whitlock', 'Four-seam FB': 'N/A', 'Slider': 'N/A', 'Cutter': 'N/A', 'Changeup': 'N/A', 'Curveball': 'N/A', 'Sinker': 'N/A', 'Two-seam FB': 'N/A'}, {'name': 'Shawn Armstrong', 'Four-seam FB': 2479.0, 'Slider': 2829.0, 'Cutter': 2619.0, 'Changeup': 'N/A', 'Curveball': 2935.0, 'Sinker': 'N/A', 'Two-seam FB': 'N/A'}, {'name': 'Ryan Brasier', 'Four-seam FB': 2253.0, 'Slider': 2426.0, 'Cutter': 'N/A', 'Changeup': 1528.0, 'Curveball': 'N/A', 'Sinker': 2280.0, 'Two-seam FB': 2351.0}, {'name': 'Phillips Valdez', 'Four-seam FB': 2469.0, 'Slider': 2429.0, 'Cutter': 'N/A', 'Changeup': 1951.0, 'Curveball': 'N/A', 'Sinker': 2402.0, 'Two-seam FB': 'N/A'}, {'name': 'Chris Sale', 'Four-seam FB': 'N/A', 'Slider': 'N/A', 'Cutter': 'N/A', 'Changeup': 'N/A', 'Curveball': 'N/A', 'Sinker': 'N/A', 'Two-seam FB': 'N/A'}, {'name': 'Nathan Eovaldi', 'Four-seam FB': 2121.0, 'Slider': 'N/A', 'Cutter': 2300.0, 'Changeup': 'N/A', 'Curveball': 2110.0, 'Sinker': 'N/A', 'Two-seam FB': 'N/A'}, {'name': 'Anthony Kay', 'Four-seam FB': 2367.0, 'Slider': 'N/A', 'Cutter': 2530.0, 'Changeup': 1771.0, 'Curveball': 2540.0, 'Sinker': 'N/A', 'Two-seam FB': 'N/A'}, {'name': 'Alex Verdugo', 'Four-seam FB': 'N/A', 'Slider': 'N/A', 'Cutter': 'N/A', 'Changeup': 'N/A', 'Curveball': 'N/A', 'Sinker': 'N/A', 'Two-seam FB': 'N/A'}, {'name': 'Randy Arozarena', 'Four-seam FB': 'N/A', 'Slider': 'N/A', 'Cutter': 'N/A', 'Changeup': 'N/A', 'Curveball': 'N/A', 'Sinker': 'N/A', 'Two-seam FB': 'N/A'}, {'name': 'Alejandro Kirk', 'Four-seam FB': 'N/A', 'Slider': 'N/A', 'Cutter': 'N/A', 'Changeup': 'N/A', 'Curveball': 'N/A', 'Sinker': 'N/A', 'Two-seam FB': 'N/A'}, {'name': 'Trevor Richards', 'Four-seam FB': 2155.0, 'Slider': 'N/A', 'Cutter': 2104.0, 'Changeup': 2398.0, 'Curveball': 2038.0, 'Sinker': 'N/A', 'Two-seam FB': 'N/A'}, {'name': 'Nick Anderson', 'Four-seam FB': 2209.0, 'Slider': 'N/A', 'Cutter': 'N/A', 'Changeup': 'N/A', 'Curveball': 1974.0, 'Sinker': 2240.0, 'Two-seam FB': 'N/A'}, {'name': 'Gleyber Torres', 'Four-seam FB': 'N/A', 'Slider': 'N/A', 'Cutter': 'N/A', 'Changeup': 'N/A', 'Curveball': 'N/A', 'Sinker': 'N/A', 'Two-seam FB': 'N/A'}, {'name': 'Keegan Akin', 'Four-seam FB': 2394.0, 'Slider': 2494.0, 'Cutter': 'N/A', 'Changeup': 2012.0, 'Curveball': 'N/A', 'Sinker': 'N/A', 'Two-seam FB': 'N/A'}, {'name': 'Francisco MejÃ\\xada', 'Four-seam FB': 'N/A', 'Slider': 'N/A', 'Cutter': 'N/A', 'Changeup': 'N/A', 'Curveball': 'N/A', 'Sinker': 'N/A', 'Two-seam FB': 'N/A'}, {'name': 'Diego Castillo', 'Four-seam FB': 1876.0, 'Slider': 2237.0, 'Cutter': 'N/A', 'Changeup': 'N/A', 'Curveball': 'N/A', 'Sinker': 1981.0, 'Two-seam FB': 'N/A'}, {'name': 'Tyler Glasnow', 'Four-seam FB': 2409.0, 'Slider': 'N/A', 'Cutter': 'N/A', 'Changeup': 1793.0, 'Curveball': 2966.0, 'Sinker': 'N/A', 'Two-seam FB': 'N/A'}, {'name': 'Willy Adames', 'Four-seam FB': 'N/A', 'Slider': 'N/A', 'Cutter': 'N/A', 'Changeup': 'N/A', 'Curveball': 'N/A', 'Sinker': 'N/A', 'Two-seam FB': 'N/A'}, {'name': 'Jeisson Rosario', 'Four-seam FB': 'N/A', 'Slider': 'N/A', 'Cutter': 'N/A', 'Changeup': 'N/A', 'Curveball': 'N/A', 'Sinker': 'N/A', 'Two-seam FB': 'N/A'}, {'name': 'Gio Urshela', 'Four-seam FB': 'N/A', 'Slider': 'N/A', 'Cutter': 'N/A', 'Changeup': 'N/A', 'Curveball': 'N/A', 'Sinker': 'N/A', 'Two-seam FB': 'N/A'}, {'name': 'Aaron Judge', 'Four-seam FB': 'N/A', 'Slider': 'N/A', 'Cutter': 'N/A', 'Changeup': 'N/A', 'Curveball': 'N/A', 'Sinker': 'N/A', 'Two-seam FB': 'N/A'}, {'name': 'Bo Bichette', 'Four-seam FB': 'N/A', 'Slider': 'N/A', 'Cutter': 'N/A', 'Changeup': 'N/A', 'Curveball': 'N/A', 'Sinker': 'N/A', 'Two-seam FB': 'N/A'}, {'name': 'Josh Palacios', 'Four-seam FB': 'N/A', 'Slider': 'N/A', 'Cutter': 'N/A', 'Changeup': 'N/A', 'Curveball': 'N/A', 'Sinker': 'N/A', 'Two-seam FB': 'N/A'}, {'name': 'Hunter Renfroe', 'Four-seam FB': 'N/A', 'Slider': 'N/A', 'Cutter': 'N/A', 'Changeup': 'N/A', 'Curveball': 'N/A', 'Sinker': 'N/A', 'Two-seam FB': 'N/A'}, {'name': 'Michael King', 'Four-seam FB': 2362.0, 'Slider': 2637.0, 'Cutter': 'N/A', 'Changeup': 1985.0, 'Curveball': 2347.0, 'Sinker': 2244.0, 'Two-seam FB': 2302.0}, {'name': 'Danny Jansen', 'Four-seam FB': 'N/A', 'Slider': 'N/A', 'Cutter': 'N/A', 'Changeup': 'N/A', 'Curveball': 'N/A', 'Sinker': 'N/A', 'Two-seam FB': 'N/A'}, {'name': 'Kevin Kiermaier', 'Four-seam FB': 'N/A', 'Slider': 'N/A', 'Cutter': 'N/A', 'Changeup': 'N/A', 'Curveball': 'N/A', 'Sinker': 'N/A', 'Two-seam FB': 'N/A'}, {'name': 'Eduardo RodrÃ\\xadguez', 'Four-seam FB': 'N/A', 'Slider': 'N/A', 'Cutter': 'N/A', 'Changeup': 'N/A', 'Curveball': 'N/A', 'Sinker': 'N/A', 'Two-seam FB': 'N/A'}, {'name': 'Joey Wendle', 'Four-seam FB': 'N/A', 'Slider': 'N/A', 'Cutter': 'N/A', 'Changeup': 'N/A', 'Curveball': 'N/A', 'Sinker': 'N/A', 'Two-seam FB': 'N/A'}, {'name': 'DJ Stewart', 'Four-seam FB': 'N/A', 'Slider': 'N/A', 'Cutter': 'N/A', 'Changeup': 'N/A', 'Curveball': 'N/A', 'Sinker': 'N/A', 'Two-seam FB': 'N/A'}, {'name': 'John Curtiss', 'Four-seam FB': 2306.0, 'Slider': 2585.0, 'Cutter': 'N/A', 'Changeup': 'N/A', 'Curveball': 'N/A', 'Sinker': 2413.0, 'Two-seam FB': 'N/A'}, {'name': 'Cody Reed', 'Four-seam FB': 2134.0, 'Slider': 2565.0, 'Cutter': 'N/A', 'Changeup': 1664.0, 'Curveball': 'N/A', 'Sinker': 2105.0, 'Two-seam FB': 'N/A'}, {'name': 'Paul Fry', 'Four-seam FB': 2277.0, 'Slider': 2806.0, 'Cutter': 'N/A', 'Changeup': 1849.0, 'Curveball': 'N/A', 'Sinker': 'N/A', 'Two-seam FB': 'N/A'}, {'name': 'Robbie Ray', 'Four-seam FB': 2420.0, 'Slider': 2371.0, 'Cutter': 'N/A', 'Changeup': 2308.0, 'Curveball': 2187.0, 'Sinker': 2351.0, 'Two-seam FB': 2223.0}, {'name': 'Tanner Scott', 'Four-seam FB': 'N/A', 'Slider': 'N/A', 'Cutter': 'N/A', 'Changeup': 'N/A', 'Curveball': 'N/A', 'Sinker': 'N/A', 'Two-seam FB': 'N/A'}, {'name': 'Ryan Mountcastle', 'Four-seam FB': 'N/A', 'Slider': 'N/A', 'Cutter': 'N/A', 'Changeup': 'N/A', 'Curveball': 'N/A', 'Sinker': 'N/A', 'Two-seam FB': 'N/A'}, {'name': 'Cavan Biggio', 'Four-seam FB': 'N/A', 'Slider': 'N/A', 'Cutter': 'N/A', 'Changeup': 'N/A', 'Curveball': 'N/A', 'Sinker': 'N/A', 'Two-seam FB': 'N/A'}, {'name': 'Mike Zunino', 'Four-seam FB': 'N/A', 'Slider': 'N/A', 'Cutter': 'N/A', 'Changeup': 'N/A', 'Curveball': 'N/A', 'Sinker': 'N/A', 'Two-seam FB': 'N/A'}, {'name': 'Chance Sisco', 'Four-seam FB': 'N/A', 'Slider': 'N/A', 'Cutter': 'N/A', 'Changeup': 'N/A', 'Curveball': 'N/A', 'Sinker': 'N/A', 'Two-seam FB': 'N/A'}, {'name': 'Pedro Severino', 'Four-seam FB': 'N/A', 'Slider': 'N/A', 'Cutter': 'N/A', 'Changeup': 'N/A', 'Curveball': 'N/A', 'Sinker': 'N/A', 'Two-seam FB': 'N/A'}, {'name': 'Santiago Espinal', 'Four-seam FB': 'N/A', 'Slider': 'N/A', 'Cutter': 'N/A', 'Changeup': 2005.0, 'Curveball': 1653.0, 'Sinker': 'N/A', 'Two-seam FB': 'N/A'}, {'name': 'Reese McGuire', 'Four-seam FB': 'N/A', 'Slider': 'N/A', 'Cutter': 'N/A', 'Changeup': 'N/A', 'Curveball': 'N/A', 'Sinker': 'N/A', 'Two-seam FB': 'N/A'}, {'name': 'Isaac Mattson', 'Four-seam FB': 'N/A', 'Slider': 'N/A', 'Cutter': 'N/A', 'Changeup': 'N/A', 'Curveball': 'N/A', 'Sinker': 'N/A', 'Two-seam FB': 'N/A'}, {'name': 'Travis Shaw', 'Four-seam FB': 'N/A', 'Slider': 'N/A', 'Cutter': 'N/A', 'Changeup': 'N/A', 'Curveball': 'N/A', 'Sinker': 'N/A', 'Two-seam FB': 'N/A'}, {'name': 'Bobby Dalbec', 'Four-seam FB': 'N/A', 'Slider': 'N/A', 'Cutter': 'N/A', 'Changeup': 'N/A', 'Curveball': 'N/A', 'Sinker': 'N/A', 'Two-seam FB': 'N/A'}, {'name': 'Matt Andriese', 'Four-seam FB': 2320.0, 'Slider': 'N/A', 'Cutter': 2536.0, 'Changeup': 2156.0, 'Curveball': 2710.0, 'Sinker': 2120.0, 'Two-seam FB': 'N/A'}, {'name': 'Kevin Plawecki', 'Four-seam FB': 1815.0, 'Slider': 'N/A', 'Cutter': 'N/A', 'Changeup': 1682.0, 'Curveball': 1791.0, 'Sinker': 'N/A', 'Two-seam FB': 'N/A'}, {'name': 'Josh Taylor', 'Four-seam FB': 2282.0, 'Slider': 2289.0, 'Cutter': 'N/A', 'Changeup': 'N/A', 'Curveball': 'N/A', 'Sinker': 2279.0, 'Two-seam FB': 2306.0}, {'name': 'Michael Baumann', 'Four-seam FB': 'N/A', 'Slider': 'N/A', 'Cutter': 'N/A', 'Changeup': 'N/A', 'Curveball': 'N/A', 'Sinker': 'N/A', 'Two-seam FB': 'N/A'}, {'name': 'Ross Stripling', 'Four-seam FB': 2273.0, 'Slider': 2498.0, 'Cutter': 2473.0, 'Changeup': 1698.0, 'Curveball': 2004.0, 'Sinker': 2334.0, 'Two-seam FB': 'N/A'}, {'name': 'Rio Ruiz', 'Four-seam FB': 'N/A', 'Slider': 'N/A', 'Cutter': 'N/A', 'Changeup': 'N/A', 'Curveball': 'N/A', 'Sinker': 'N/A', 'Two-seam FB': 'N/A'}, {'name': 'Yusniel Diaz', 'Four-seam FB': 'N/A', 'Slider': 'N/A', 'Cutter': 'N/A', 'Changeup': 'N/A', 'Curveball': 'N/A', 'Sinker': 'N/A', 'Two-seam FB': 'N/A'}, {'name': 'Jorge LÃ³pez', 'Four-seam FB': 1910.0, 'Slider': 'N/A', 'Cutter': 'N/A', 'Changeup': 1582.0, 'Curveball': 2143.0, 'Sinker': 1897.0, 'Two-seam FB': 1804.0}, {'name': 'A.J. Cole', 'Four-seam FB': 2331.0, 'Slider': 2288.0, 'Cutter': 2180.0, 'Changeup': 2073.0, 'Curveball': 2197.0, 'Sinker': 'N/A', 'Two-seam FB': 'N/A'}, {'name': 'Manuel Margot', 'Four-seam FB': 'N/A', 'Slider': 'N/A', 'Cutter': 'N/A', 'Changeup': 'N/A', 'Curveball': 'N/A', 'Sinker': 'N/A', 'Two-seam FB': 'N/A'}, {'name': 'Yandy DÃ\\xadaz', 'Four-seam FB': 'N/A', 'Slider': 'N/A', 'Cutter': 'N/A', 'Changeup': 'N/A', 'Curveball': 'N/A', 'Sinker': 'N/A', 'Two-seam FB': 'N/A'}, {'name': 'Austin Meadows', 'Four-seam FB': 'N/A', 'Slider': 'N/A', 'Cutter': 'N/A', 'Changeup': 'N/A', 'Curveball': 'N/A', 'Sinker': 'N/A', 'Two-seam FB': 'N/A'}, {'name': 'Tyler Wade', 'Four-seam FB': 'N/A', 'Slider': 'N/A', 'Cutter': 'N/A', 'Changeup': 'N/A', 'Curveball': 'N/A', 'Sinker': 'N/A', 'Two-seam FB': 'N/A'}, {'name': 'Brandon Lowe', 'Four-seam FB': 'N/A', 'Slider': 'N/A', 'Cutter': 'N/A', 'Changeup': 'N/A', 'Curveball': 'N/A', 'Sinker': 'N/A', 'Two-seam FB': 'N/A'}, {'name': 'JosÃ© Iglesias', 'Four-seam FB': 'N/A', 'Slider': 'N/A', 'Cutter': 'N/A', 'Changeup': 'N/A', 'Curveball': 'N/A', 'Sinker': 'N/A', 'Two-seam FB': 'N/A'}, {'name': 'Alex Cobb', 'Four-seam FB': 2090.0, 'Slider': 'N/A', 'Cutter': 'N/A', 'Changeup': 'N/A', 'Curveball': 'N/A', 'Sinker': 'N/A', 'Two-seam FB': 'N/A'}, {'name': 'Mike Brosseau', 'Four-seam FB': 'N/A', 'Slider': 'N/A', 'Cutter': 'N/A', 'Changeup': 'N/A', 'Curveball': 1808.0, 'Sinker': 'N/A', 'Two-seam FB': 'N/A'}, {'name': 'Nick Pivetta', 'Four-seam FB': 2346.0, 'Slider': 2381.0, 'Cutter': 'N/A', 'Changeup': 1796.0, 'Curveball': 'N/A', 'Sinker': 'N/A', 'Two-seam FB': 'N/A'}, {'name': 'Anthony Santander', 'Four-seam FB': 'N/A', 'Slider': 'N/A', 'Cutter': 'N/A', 'Changeup': 'N/A', 'Curveball': 'N/A', 'Sinker': 'N/A', 'Two-seam FB': 'N/A'}, {'name': 'Cesar Valdez', 'Four-seam FB': 2316.0, 'Slider': 2433.0, 'Cutter': 'N/A', 'Changeup': 1795.0, 'Curveball': 'N/A', 'Sinker': 2062.0, 'Two-seam FB': 'N/A'}, {'name': 'John Means', 'Four-seam FB': 2450.0, 'Slider': 2463.0, 'Cutter': 'N/A', 'Changeup': 2416.0, 'Curveball': 2319.0, 'Sinker': 'N/A', 'Two-seam FB': 'N/A'}, {'name': 'Bruce Zimmermann', 'Four-seam FB': 2360.0, 'Slider': 2608.0, 'Cutter': 'N/A', 'Changeup': 1871.0, 'Curveball': 2727.0, 'Sinker': 'N/A', 'Two-seam FB': 'N/A'}, {'name': 'Ryan Yarbrough', 'Four-seam FB': 'N/A', 'Slider': 'N/A', 'Cutter': 2161.0, 'Changeup': 2015.0, 'Curveball': 2337.0, 'Sinker': 1957.0, 'Two-seam FB': 'N/A'}, {'name': 'Matt Barnes', 'Four-seam FB': 2314.0, 'Slider': 'N/A', 'Cutter': 'N/A', 'Changeup': 'N/A', 'Curveball': 2177.0, 'Sinker': 'N/A', 'Two-seam FB': 'N/A'}, {'name': 'Michael Wacha', 'Four-seam FB': 2127.0, 'Slider': 'N/A', 'Cutter': 2060.0, 'Changeup': 1538.0, 'Curveball': 2195.0, 'Sinker': 'N/A', 'Two-seam FB': 'N/A'}, {'name': 'Chris Davis', 'Four-seam FB': 'N/A', 'Slider': 'N/A', 'Cutter': 'N/A', 'Changeup': 'N/A', 'Curveball': 'N/A', 'Sinker': 'N/A', 'Two-seam FB': 'N/A'}, {'name': 'Trey Mancini', 'Four-seam FB': 'N/A', 'Slider': 'N/A', 'Cutter': 'N/A', 'Changeup': 'N/A', 'Curveball': 'N/A', 'Sinker': 'N/A', 'Two-seam FB': 'N/A'}, {'name': 'Colten Brewer', 'Four-seam FB': 1989.0, 'Slider': 2546.0, 'Cutter': 2408.0, 'Changeup': 'N/A', 'Curveball': 2801.0, 'Sinker': 2345.0, 'Two-seam FB': 'N/A'}, {'name': 'Rafael Dolis', 'Four-seam FB': 2315.0, 'Slider': 2472.0, 'Cutter': 'N/A', 'Changeup': 1373.0, 'Curveball': 2421.0, 'Sinker': 2235.0, 'Two-seam FB': 2204.0}, {'name': 'Cole Sulser', 'Four-seam FB': 2409.0, 'Slider': 2370.0, 'Cutter': 'N/A', 'Changeup': 1701.0, 'Curveball': 'N/A', 'Sinker': 'N/A', 'Two-seam FB': 'N/A'}, {'name': 'Jordan Montgomery', 'Four-seam FB': 2302.0, 'Slider': 2295.0, 'Cutter': 2408.0, 'Changeup': 1758.0, 'Curveball': 2283.0, 'Sinker': 2188.0, 'Two-seam FB': 2169.0}, {'name': 'Deivi GarcÃ\\xada', 'Four-seam FB': 2162.0, 'Slider': 2404.0, 'Cutter': 'N/A', 'Changeup': 1853.0, 'Curveball': 2662.0, 'Sinker': 'N/A', 'Two-seam FB': 'N/A'}, {'name': 'Gerrit Cole', 'Four-seam FB': 2517.0, 'Slider': 2585.0, 'Cutter': 'N/A', 'Changeup': 1752.0, 'Curveball': 2781.0, 'Sinker': 'N/A', 'Two-seam FB': 1941.0}, {'name': 'Mike Ford', 'Four-seam FB': 'N/A', 'Slider': 'N/A', 'Cutter': 'N/A', 'Changeup': 'N/A', 'Curveball': 'N/A', 'Sinker': 'N/A', 'Two-seam FB': 'N/A'}, {'name': 'Nate Pearson', 'Four-seam FB': 2307.0, 'Slider': 2624.0, 'Cutter': 'N/A', 'Changeup': 1874.0, 'Curveball': 2519.0, 'Sinker': 2393.0, 'Two-seam FB': 'N/A'}, {'name': 'J.D. Martinez', 'Four-seam FB': 'N/A', 'Slider': 'N/A', 'Cutter': 'N/A', 'Changeup': 'N/A', 'Curveball': 'N/A', 'Sinker': 'N/A', 'Two-seam FB': 'N/A'}, {'name': 'Rylan Bannon', 'Four-seam FB': 'N/A', 'Slider': 'N/A', 'Cutter': 'N/A', 'Changeup': 'N/A', 'Curveball': 'N/A', 'Sinker': 'N/A', 'Two-seam FB': 'N/A'}, {'name': 'Vladimir Guerrero Jr.', 'Four-seam FB': 'N/A', 'Slider': 'N/A', 'Cutter': 'N/A', 'Changeup': 'N/A', 'Curveball': 'N/A', 'Sinker': 'N/A', 'Two-seam FB': 'N/A'}, {'name': 'Cedric Mullins', 'Four-seam FB': 'N/A', 'Slider': 'N/A', 'Cutter': 'N/A', 'Changeup': 'N/A', 'Curveball': 'N/A', 'Sinker': 'N/A', 'Two-seam FB': 'N/A'}, {'name': 'Josh Fleming', 'Four-seam FB': 1952.0, 'Slider': 1857.0, 'Cutter': 'N/A', 'Changeup': 1699.0, 'Curveball': 2006.0, 'Sinker': 1872.0, 'Two-seam FB': 'N/A'}, {'name': 'Rafael Devers', 'Four-seam FB': 'N/A', 'Slider': 'N/A', 'Cutter': 'N/A', 'Changeup': 'N/A', 'Curveball': 'N/A', 'Sinker': 'N/A', 'Two-seam FB': 'N/A'}]\n"
     ]
    }
   ],
   "source": [
    "print(data)"
   ]
  },
  {
   "cell_type": "code",
   "execution_count": 13,
   "metadata": {},
   "outputs": [
    {
     "ename": "NameError",
     "evalue": "name 'hitter_data_list' is not defined",
     "output_type": "error",
     "traceback": [
      "\u001b[1;31m---------------------------------------------------------------------------\u001b[0m",
      "\u001b[1;31mNameError\u001b[0m                                 Traceback (most recent call last)",
      "\u001b[1;32m<ipython-input-13-969678fee89b>\u001b[0m in \u001b[0;36m<module>\u001b[1;34m\u001b[0m\n\u001b[1;32m----> 1\u001b[1;33m \u001b[0mseason\u001b[0m \u001b[1;33m=\u001b[0m \u001b[0mgetSeasonByYear\u001b[0m\u001b[1;33m(\u001b[0m\u001b[0mhitter_data_list\u001b[0m\u001b[1;33m[\u001b[0m\u001b[1;36m1\u001b[0m\u001b[1;33m]\u001b[0m\u001b[1;33m,\u001b[0m \u001b[0mseason_year\u001b[0m\u001b[1;33m)\u001b[0m\u001b[1;33m\u001b[0m\u001b[1;33m\u001b[0m\u001b[0m\n\u001b[0m",
      "\u001b[1;31mNameError\u001b[0m: name 'hitter_data_list' is not defined"
     ]
    }
   ],
   "source": [
    "season = getSeasonByYear(hitter_data_list[1], season_year)"
   ]
  },
  {
   "cell_type": "code",
   "execution_count": null,
   "metadata": {},
   "outputs": [],
   "source": []
  },
  {
   "cell_type": "code",
   "execution_count": null,
   "metadata": {},
   "outputs": [],
   "source": [
    " getBarreledBall(season)"
   ]
  },
  {
   "cell_type": "code",
   "execution_count": null,
   "metadata": {},
   "outputs": [],
   "source": [
    "season"
   ]
  },
  {
   "cell_type": "code",
   "execution_count": null,
   "metadata": {},
   "outputs": [],
   "source": [
    "getSeasonByYear(hitter_data_list[1],2019,seasonType ='REG')"
   ]
  },
  {
   "cell_type": "code",
   "execution_count": null,
   "metadata": {},
   "outputs": [],
   "source": []
  }
 ],
 "metadata": {
  "kernelspec": {
   "display_name": "Python 3",
   "language": "python",
   "name": "python3"
  },
  "language_info": {
   "codemirror_mode": {
    "name": "ipython",
    "version": 3
   },
   "file_extension": ".py",
   "mimetype": "text/x-python",
   "name": "python",
   "nbconvert_exporter": "python",
   "pygments_lexer": "ipython3",
   "version": "3.8.3"
  }
 },
 "nbformat": 4,
 "nbformat_minor": 4
}
