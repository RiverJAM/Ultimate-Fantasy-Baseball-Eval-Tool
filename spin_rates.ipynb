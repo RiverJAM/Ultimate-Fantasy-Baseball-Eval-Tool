{
 "cells": [
  {
   "cell_type": "raw",
   "metadata": {},
   "source": [
    "This code imports statcast data from our mongodb.  It creates 2 functions which pull season data\n",
    "then creates a second function to get to the barreled ball data itslef"
   ]
  },
  {
   "cell_type": "code",
   "execution_count": 1,
   "metadata": {},
   "outputs": [],
   "source": [
    "\n",
    "from flask import Flask, render_template, redirect, jsonify\n",
    "from flask_pymongo import PyMongo\n",
    "# import scrape_mars\n",
    "import json\n",
    "from bson.objectid import ObjectId\n",
    "from bson import json_util\n",
    "from bson import ObjectId"
   ]
  },
  {
   "cell_type": "code",
   "execution_count": 2,
   "metadata": {},
   "outputs": [],
   "source": [
    "app = Flask(__name__,static_url_path=\"/static\",static_folder=\"static\")\n",
    "mongo = PyMongo(app, uri=\"mongodb://localhost:27017/Ultimate_Baseball_Project\")"
   ]
  },
  {
   "cell_type": "code",
   "execution_count": 3,
   "metadata": {},
   "outputs": [],
   "source": [
    "pitcher_data = mongo.db.statcast.find()"
   ]
  },
  {
   "cell_type": "code",
   "execution_count": 4,
   "metadata": {},
   "outputs": [],
   "source": [
    "pitcher_data_list = list(pitcher_data)"
   ]
  },
  {
   "cell_type": "code",
   "execution_count": 5,
   "metadata": {},
   "outputs": [
    {
     "data": {
      "text/plain": [
       "130"
      ]
     },
     "execution_count": 5,
     "metadata": {},
     "output_type": "execute_result"
    }
   ],
   "source": [
    "len(pitcher_data_list)"
   ]
  },
  {
   "cell_type": "code",
   "execution_count": 7,
   "metadata": {},
   "outputs": [],
   "source": [
    "def getSeasonByYear(player,year,seasonType ='REG'):\n",
    "    seasons = player.get('seasons', [])\n",
    "    for season in seasons:\n",
    "        if(season.get('year',0) == year and season.get('type','N/A') == seasonType):\n",
    "            return season;\n",
    "    return {}"
   ]
  },
  {
   "cell_type": "code",
   "execution_count": 31,
   "metadata": {},
   "outputs": [],
   "source": [
    "def getPitch_data(season, pitch):\n",
    "    totals = season.get('totals', {})\n",
    "    statcast_metrics = totals.get('statcast_metrics', {})\n",
    "    pitching = statcast_metrics.get('pitching', {})\n",
    "    types = pitching.get('pitch_types', {})\n",
    "    for pitches in types:\n",
    "        if(pitches.get('type', 0 ) == pitch):\n",
    "            return pitches\n",
    "    return {}"
   ]
  },
  {
   "cell_type": "code",
   "execution_count": 58,
   "metadata": {},
   "outputs": [],
   "source": [
    "def getSpins(pitch_data):\n",
    "    spin_rate = pitch_data.get('release_spin_rate', {})\n",
    "    spin_rate_avg = spin_rate.get('avg', \"N/A\")\n",
    "#     print(spin_rate_avg)\n",
    "    return (spin_rate_avg)\n",
    "        "
   ]
  },
  {
   "cell_type": "code",
   "execution_count": 65,
   "metadata": {},
   "outputs": [],
   "source": [
    "season_year = 2020\n",
    "pitch = \"Four-seam FB\""
   ]
  },
  {
   "cell_type": "code",
   "execution_count": 66,
   "metadata": {},
   "outputs": [],
   "source": [
    "data = []"
   ]
  },
  {
   "cell_type": "code",
   "execution_count": 70,
   "metadata": {},
   "outputs": [],
   "source": [
    "for player_dict in pitcher_data_list:\n",
    "    player =  player_dict.get(\"player\",{})\n",
    "    item = {}\n",
    "    item[\"name\"] = player.get(\"full_name\",\"N/A\")\n",
    "#     print(item)\n",
    "    season = getSeasonByYear(player, season_year)\n",
    "#     print(season)\n",
    "    pitches_data = getPitch_data(season, pitch)\n",
    "    \n",
    "#     print(pitches_data)\n",
    "    item[\"{pitch}\"] = getSpins(pitches_data)\n",
    "#     print(item[\"avg_spin_rate\"])\n",
    "    data.append(item)"
   ]
  },
  {
   "cell_type": "code",
   "execution_count": 71,
   "metadata": {},
   "outputs": [
    {
     "name": "stdout",
     "output_type": "stream",
     "text": [
      "[{'name': 'Ronaldo HernÃ¡ndez', 'avg_spin_rate': 'N/A'}, {'name': 'Michael Chavis', 'avg_spin_rate': 'N/A'}, {'name': 'Hyun Jin Ryu', 'avg_spin_rate': 1995.0}, {'name': 'Ryan Thompson', 'avg_spin_rate': 2132.0}, {'name': 'RamÃ³n UrÃ\\xadas', 'avg_spin_rate': 'N/A'}, {'name': 'Otto Lopez', 'avg_spin_rate': 'N/A'}, {'name': 'Yoshi Tsutsugo', 'avg_spin_rate': 'N/A'}, {'name': 'Luke Voit', 'avg_spin_rate': 'N/A'}, {'name': 'Christian VÃ¡zquez', 'avg_spin_rate': 'N/A'}, {'name': 'Hunter Harvey', 'avg_spin_rate': 2102.0}, {'name': 'Andrew Benintendi', 'avg_spin_rate': 'N/A'}, {'name': 'Austin Hays', 'avg_spin_rate': 'N/A'}, {'name': 'Ji-Man Choi', 'avg_spin_rate': 'N/A'}, {'name': 'Zac Lowther', 'avg_spin_rate': 'N/A'}, {'name': 'Jonathan Davis', 'avg_spin_rate': 'N/A'}, {'name': 'Pat Valaika', 'avg_spin_rate': 'N/A'}, {'name': 'Hanser Alberto', 'avg_spin_rate': 'N/A'}, {'name': 'Teoscar HernÃ¡ndez', 'avg_spin_rate': 'N/A'}, {'name': 'Tanner Houck', 'avg_spin_rate': 2023.0}, {'name': 'Ty Tice', 'avg_spin_rate': 'N/A'}, {'name': 'Christian Arroyo', 'avg_spin_rate': 'N/A'}, {'name': 'Clint Frazier', 'avg_spin_rate': 'N/A'}, {'name': 'Brett Phillips', 'avg_spin_rate': 'N/A'}, {'name': 'Lourdes Gurriel Jr.', 'avg_spin_rate': 'N/A'}, {'name': 'Richie Martin', 'avg_spin_rate': 'N/A'}, {'name': 'Chris Mazza', 'avg_spin_rate': 2075.0}, {'name': 'Mike Tauchman', 'avg_spin_rate': 'N/A'}, {'name': 'Xander Bogaerts', 'avg_spin_rate': 'N/A'}, {'name': 'Pete Fairbanks', 'avg_spin_rate': 2434.0}, {'name': 'Darwinzon Hernandez', 'avg_spin_rate': 2330.0}, {'name': 'Ryan Borucki', 'avg_spin_rate': 2404.0}, {'name': 'Alexander Wells', 'avg_spin_rate': 'N/A'}, {'name': 'Thairo Estrada', 'avg_spin_rate': 'N/A'}, {'name': 'Tom Hatch', 'avg_spin_rate': 2601.0}, {'name': 'Rowdy Tellez', 'avg_spin_rate': 'N/A'}, {'name': 'Riley Adams', 'avg_spin_rate': 'N/A'}, {'name': 'Dustin Pedroia', 'avg_spin_rate': 'N/A'}, {'name': 'Gabriel Moreno', 'avg_spin_rate': 'N/A'}, {'name': 'Anthony Castro', 'avg_spin_rate': 2507.0}, {'name': 'Travis Lakins Sr.', 'avg_spin_rate': 2227.0}, {'name': 'Aaron Hicks', 'avg_spin_rate': 'N/A'}, {'name': 'Austin Brice', 'avg_spin_rate': 2251.0}, {'name': 'Randal Grichuk', 'avg_spin_rate': 'N/A'}, {'name': 'Jonathan AraÃºz', 'avg_spin_rate': 'N/A'}, {'name': 'Garrett Whitlock', 'avg_spin_rate': 'N/A'}, {'name': 'Shawn Armstrong', 'avg_spin_rate': 2479.0}, {'name': 'Ryan Brasier', 'avg_spin_rate': 2253.0}, {'name': 'Phillips Valdez', 'avg_spin_rate': 2469.0}, {'name': 'Chris Sale', 'avg_spin_rate': 'N/A'}, {'name': 'Nathan Eovaldi', 'avg_spin_rate': 2121.0}, {'name': 'Anthony Kay', 'avg_spin_rate': 2367.0}, {'name': 'Alex Verdugo', 'avg_spin_rate': 'N/A'}, {'name': 'Randy Arozarena', 'avg_spin_rate': 'N/A'}, {'name': 'Alejandro Kirk', 'avg_spin_rate': 'N/A'}, {'name': 'Trevor Richards', 'avg_spin_rate': 2155.0}, {'name': 'Nick Anderson', 'avg_spin_rate': 2209.0}, {'name': 'Gleyber Torres', 'avg_spin_rate': 'N/A'}, {'name': 'Keegan Akin', 'avg_spin_rate': 2394.0}, {'name': 'Francisco MejÃ\\xada', 'avg_spin_rate': 'N/A'}, {'name': 'Diego Castillo', 'avg_spin_rate': 1876.0}, {'name': 'Tyler Glasnow', 'avg_spin_rate': 2409.0}, {'name': 'Willy Adames', 'avg_spin_rate': 'N/A'}, {'name': 'Jeisson Rosario', 'avg_spin_rate': 'N/A'}, {'name': 'Gio Urshela', 'avg_spin_rate': 'N/A'}, {'name': 'Aaron Judge', 'avg_spin_rate': 'N/A'}, {'name': 'Bo Bichette', 'avg_spin_rate': 'N/A'}, {'name': 'Josh Palacios', 'avg_spin_rate': 'N/A'}, {'name': 'Hunter Renfroe', 'avg_spin_rate': 'N/A'}, {'name': 'Michael King', 'avg_spin_rate': 2362.0}, {'name': 'Danny Jansen', 'avg_spin_rate': 'N/A'}, {'name': 'Kevin Kiermaier', 'avg_spin_rate': 'N/A'}, {'name': 'Eduardo RodrÃ\\xadguez', 'avg_spin_rate': 'N/A'}, {'name': 'Joey Wendle', 'avg_spin_rate': 'N/A'}, {'name': 'DJ Stewart', 'avg_spin_rate': 'N/A'}, {'name': 'John Curtiss', 'avg_spin_rate': 2306.0}, {'name': 'Cody Reed', 'avg_spin_rate': 2134.0}, {'name': 'Paul Fry', 'avg_spin_rate': 2277.0}, {'name': 'Robbie Ray', 'avg_spin_rate': 2420.0}, {'name': 'Tanner Scott', 'avg_spin_rate': 'N/A'}, {'name': 'Ryan Mountcastle', 'avg_spin_rate': 'N/A'}, {'name': 'Cavan Biggio', 'avg_spin_rate': 'N/A'}, {'name': 'Mike Zunino', 'avg_spin_rate': 'N/A'}, {'name': 'Chance Sisco', 'avg_spin_rate': 'N/A'}, {'name': 'Pedro Severino', 'avg_spin_rate': 'N/A'}, {'name': 'Santiago Espinal', 'avg_spin_rate': 'N/A'}, {'name': 'Reese McGuire', 'avg_spin_rate': 'N/A'}, {'name': 'Isaac Mattson', 'avg_spin_rate': 'N/A'}, {'name': 'Travis Shaw', 'avg_spin_rate': 'N/A'}, {'name': 'Bobby Dalbec', 'avg_spin_rate': 'N/A'}, {'name': 'Matt Andriese', 'avg_spin_rate': 2320.0}, {'name': 'Kevin Plawecki', 'avg_spin_rate': 1815.0}, {'name': 'Josh Taylor', 'avg_spin_rate': 2282.0}, {'name': 'Michael Baumann', 'avg_spin_rate': 'N/A'}, {'name': 'Ross Stripling', 'avg_spin_rate': 2273.0}, {'name': 'Rio Ruiz', 'avg_spin_rate': 'N/A'}, {'name': 'Yusniel Diaz', 'avg_spin_rate': 'N/A'}, {'name': 'Jorge LÃ³pez', 'avg_spin_rate': 1910.0}, {'name': 'A.J. Cole', 'avg_spin_rate': 2331.0}, {'name': 'Manuel Margot', 'avg_spin_rate': 'N/A'}, {'name': 'Yandy DÃ\\xadaz', 'avg_spin_rate': 'N/A'}, {'name': 'Austin Meadows', 'avg_spin_rate': 'N/A'}, {'name': 'Tyler Wade', 'avg_spin_rate': 'N/A'}, {'name': 'Brandon Lowe', 'avg_spin_rate': 'N/A'}, {'name': 'JosÃ© Iglesias', 'avg_spin_rate': 'N/A'}, {'name': 'Alex Cobb', 'avg_spin_rate': 2090.0}, {'name': 'Mike Brosseau', 'avg_spin_rate': 'N/A'}, {'name': 'Nick Pivetta', 'avg_spin_rate': 2346.0}, {'name': 'Anthony Santander', 'avg_spin_rate': 'N/A'}, {'name': 'Cesar Valdez', 'avg_spin_rate': 2316.0}, {'name': 'John Means', 'avg_spin_rate': 2450.0}, {'name': 'Bruce Zimmermann', 'avg_spin_rate': 2360.0}, {'name': 'Ryan Yarbrough', 'avg_spin_rate': 'N/A'}, {'name': 'Matt Barnes', 'avg_spin_rate': 2314.0}, {'name': 'Michael Wacha', 'avg_spin_rate': 2127.0}, {'name': 'Chris Davis', 'avg_spin_rate': 'N/A'}, {'name': 'Trey Mancini', 'avg_spin_rate': 'N/A'}, {'name': 'Colten Brewer', 'avg_spin_rate': 1989.0}, {'name': 'Rafael Dolis', 'avg_spin_rate': 2315.0}, {'name': 'Cole Sulser', 'avg_spin_rate': 2409.0}, {'name': 'Jordan Montgomery', 'avg_spin_rate': 2302.0}, {'name': 'Deivi GarcÃ\\xada', 'avg_spin_rate': 2162.0}, {'name': 'Gerrit Cole', 'avg_spin_rate': 2517.0}, {'name': 'Mike Ford', 'avg_spin_rate': 'N/A'}, {'name': 'Nate Pearson', 'avg_spin_rate': 2307.0}, {'name': 'J.D. Martinez', 'avg_spin_rate': 'N/A'}, {'name': 'Rylan Bannon', 'avg_spin_rate': 'N/A'}, {'name': 'Vladimir Guerrero Jr.', 'avg_spin_rate': 'N/A'}, {'name': 'Cedric Mullins', 'avg_spin_rate': 'N/A'}, {'name': 'Josh Fleming', 'avg_spin_rate': 1952.0}, {'name': 'Rafael Devers', 'avg_spin_rate': 'N/A'}, {'name': 'Ronaldo HernÃ¡ndez', '{pitch}': 'N/A'}, {'name': 'Michael Chavis', '{pitch}': 'N/A'}, {'name': 'Hyun Jin Ryu', '{pitch}': 1995.0}, {'name': 'Ryan Thompson', '{pitch}': 2132.0}, {'name': 'RamÃ³n UrÃ\\xadas', '{pitch}': 'N/A'}, {'name': 'Otto Lopez', '{pitch}': 'N/A'}, {'name': 'Yoshi Tsutsugo', '{pitch}': 'N/A'}, {'name': 'Luke Voit', '{pitch}': 'N/A'}, {'name': 'Christian VÃ¡zquez', '{pitch}': 'N/A'}, {'name': 'Hunter Harvey', '{pitch}': 2102.0}, {'name': 'Andrew Benintendi', '{pitch}': 'N/A'}, {'name': 'Austin Hays', '{pitch}': 'N/A'}, {'name': 'Ji-Man Choi', '{pitch}': 'N/A'}, {'name': 'Zac Lowther', '{pitch}': 'N/A'}, {'name': 'Jonathan Davis', '{pitch}': 'N/A'}, {'name': 'Pat Valaika', '{pitch}': 'N/A'}, {'name': 'Hanser Alberto', '{pitch}': 'N/A'}, {'name': 'Teoscar HernÃ¡ndez', '{pitch}': 'N/A'}, {'name': 'Tanner Houck', '{pitch}': 2023.0}, {'name': 'Ty Tice', '{pitch}': 'N/A'}, {'name': 'Christian Arroyo', '{pitch}': 'N/A'}, {'name': 'Clint Frazier', '{pitch}': 'N/A'}, {'name': 'Brett Phillips', '{pitch}': 'N/A'}, {'name': 'Lourdes Gurriel Jr.', '{pitch}': 'N/A'}, {'name': 'Richie Martin', '{pitch}': 'N/A'}, {'name': 'Chris Mazza', '{pitch}': 2075.0}, {'name': 'Mike Tauchman', '{pitch}': 'N/A'}, {'name': 'Xander Bogaerts', '{pitch}': 'N/A'}, {'name': 'Pete Fairbanks', '{pitch}': 2434.0}, {'name': 'Darwinzon Hernandez', '{pitch}': 2330.0}, {'name': 'Ryan Borucki', '{pitch}': 2404.0}, {'name': 'Alexander Wells', '{pitch}': 'N/A'}, {'name': 'Thairo Estrada', '{pitch}': 'N/A'}, {'name': 'Tom Hatch', '{pitch}': 2601.0}, {'name': 'Rowdy Tellez', '{pitch}': 'N/A'}, {'name': 'Riley Adams', '{pitch}': 'N/A'}, {'name': 'Dustin Pedroia', '{pitch}': 'N/A'}, {'name': 'Gabriel Moreno', '{pitch}': 'N/A'}, {'name': 'Anthony Castro', '{pitch}': 2507.0}, {'name': 'Travis Lakins Sr.', '{pitch}': 2227.0}, {'name': 'Aaron Hicks', '{pitch}': 'N/A'}, {'name': 'Austin Brice', '{pitch}': 2251.0}, {'name': 'Randal Grichuk', '{pitch}': 'N/A'}, {'name': 'Jonathan AraÃºz', '{pitch}': 'N/A'}, {'name': 'Garrett Whitlock', '{pitch}': 'N/A'}, {'name': 'Shawn Armstrong', '{pitch}': 2479.0}, {'name': 'Ryan Brasier', '{pitch}': 2253.0}, {'name': 'Phillips Valdez', '{pitch}': 2469.0}, {'name': 'Chris Sale', '{pitch}': 'N/A'}, {'name': 'Nathan Eovaldi', '{pitch}': 2121.0}, {'name': 'Anthony Kay', '{pitch}': 2367.0}, {'name': 'Alex Verdugo', '{pitch}': 'N/A'}, {'name': 'Randy Arozarena', '{pitch}': 'N/A'}, {'name': 'Alejandro Kirk', '{pitch}': 'N/A'}, {'name': 'Trevor Richards', '{pitch}': 2155.0}, {'name': 'Nick Anderson', '{pitch}': 2209.0}, {'name': 'Gleyber Torres', '{pitch}': 'N/A'}, {'name': 'Keegan Akin', '{pitch}': 2394.0}, {'name': 'Francisco MejÃ\\xada', '{pitch}': 'N/A'}, {'name': 'Diego Castillo', '{pitch}': 1876.0}, {'name': 'Tyler Glasnow', '{pitch}': 2409.0}, {'name': 'Willy Adames', '{pitch}': 'N/A'}, {'name': 'Jeisson Rosario', '{pitch}': 'N/A'}, {'name': 'Gio Urshela', '{pitch}': 'N/A'}, {'name': 'Aaron Judge', '{pitch}': 'N/A'}, {'name': 'Bo Bichette', '{pitch}': 'N/A'}, {'name': 'Josh Palacios', '{pitch}': 'N/A'}, {'name': 'Hunter Renfroe', '{pitch}': 'N/A'}, {'name': 'Michael King', '{pitch}': 2362.0}, {'name': 'Danny Jansen', '{pitch}': 'N/A'}, {'name': 'Kevin Kiermaier', '{pitch}': 'N/A'}, {'name': 'Eduardo RodrÃ\\xadguez', '{pitch}': 'N/A'}, {'name': 'Joey Wendle', '{pitch}': 'N/A'}, {'name': 'DJ Stewart', '{pitch}': 'N/A'}, {'name': 'John Curtiss', '{pitch}': 2306.0}, {'name': 'Cody Reed', '{pitch}': 2134.0}, {'name': 'Paul Fry', '{pitch}': 2277.0}, {'name': 'Robbie Ray', '{pitch}': 2420.0}, {'name': 'Tanner Scott', '{pitch}': 'N/A'}, {'name': 'Ryan Mountcastle', '{pitch}': 'N/A'}, {'name': 'Cavan Biggio', '{pitch}': 'N/A'}, {'name': 'Mike Zunino', '{pitch}': 'N/A'}, {'name': 'Chance Sisco', '{pitch}': 'N/A'}, {'name': 'Pedro Severino', '{pitch}': 'N/A'}, {'name': 'Santiago Espinal', '{pitch}': 'N/A'}, {'name': 'Reese McGuire', '{pitch}': 'N/A'}, {'name': 'Isaac Mattson', '{pitch}': 'N/A'}, {'name': 'Travis Shaw', '{pitch}': 'N/A'}, {'name': 'Bobby Dalbec', '{pitch}': 'N/A'}, {'name': 'Matt Andriese', '{pitch}': 2320.0}, {'name': 'Kevin Plawecki', '{pitch}': 1815.0}, {'name': 'Josh Taylor', '{pitch}': 2282.0}, {'name': 'Michael Baumann', '{pitch}': 'N/A'}, {'name': 'Ross Stripling', '{pitch}': 2273.0}, {'name': 'Rio Ruiz', '{pitch}': 'N/A'}, {'name': 'Yusniel Diaz', '{pitch}': 'N/A'}, {'name': 'Jorge LÃ³pez', '{pitch}': 1910.0}, {'name': 'A.J. Cole', '{pitch}': 2331.0}, {'name': 'Manuel Margot', '{pitch}': 'N/A'}, {'name': 'Yandy DÃ\\xadaz', '{pitch}': 'N/A'}, {'name': 'Austin Meadows', '{pitch}': 'N/A'}, {'name': 'Tyler Wade', '{pitch}': 'N/A'}, {'name': 'Brandon Lowe', '{pitch}': 'N/A'}, {'name': 'JosÃ© Iglesias', '{pitch}': 'N/A'}, {'name': 'Alex Cobb', '{pitch}': 2090.0}, {'name': 'Mike Brosseau', '{pitch}': 'N/A'}, {'name': 'Nick Pivetta', '{pitch}': 2346.0}, {'name': 'Anthony Santander', '{pitch}': 'N/A'}, {'name': 'Cesar Valdez', '{pitch}': 2316.0}, {'name': 'John Means', '{pitch}': 2450.0}, {'name': 'Bruce Zimmermann', '{pitch}': 2360.0}, {'name': 'Ryan Yarbrough', '{pitch}': 'N/A'}, {'name': 'Matt Barnes', '{pitch}': 2314.0}, {'name': 'Michael Wacha', '{pitch}': 2127.0}, {'name': 'Chris Davis', '{pitch}': 'N/A'}, {'name': 'Trey Mancini', '{pitch}': 'N/A'}, {'name': 'Colten Brewer', '{pitch}': 1989.0}, {'name': 'Rafael Dolis', '{pitch}': 2315.0}, {'name': 'Cole Sulser', '{pitch}': 2409.0}, {'name': 'Jordan Montgomery', '{pitch}': 2302.0}, {'name': 'Deivi GarcÃ\\xada', '{pitch}': 2162.0}, {'name': 'Gerrit Cole', '{pitch}': 2517.0}, {'name': 'Mike Ford', '{pitch}': 'N/A'}, {'name': 'Nate Pearson', '{pitch}': 2307.0}, {'name': 'J.D. Martinez', '{pitch}': 'N/A'}, {'name': 'Rylan Bannon', '{pitch}': 'N/A'}, {'name': 'Vladimir Guerrero Jr.', '{pitch}': 'N/A'}, {'name': 'Cedric Mullins', '{pitch}': 'N/A'}, {'name': 'Josh Fleming', '{pitch}': 1952.0}, {'name': 'Rafael Devers', '{pitch}': 'N/A'}, {'name': 'Ronaldo HernÃ¡ndez', '{pitch}': 'N/A'}, {'name': 'Michael Chavis', '{pitch}': 'N/A'}, {'name': 'Hyun Jin Ryu', '{pitch}': 1995.0}, {'name': 'Ryan Thompson', '{pitch}': 2132.0}, {'name': 'RamÃ³n UrÃ\\xadas', '{pitch}': 'N/A'}, {'name': 'Otto Lopez', '{pitch}': 'N/A'}, {'name': 'Yoshi Tsutsugo', '{pitch}': 'N/A'}, {'name': 'Luke Voit', '{pitch}': 'N/A'}, {'name': 'Christian VÃ¡zquez', '{pitch}': 'N/A'}, {'name': 'Hunter Harvey', '{pitch}': 2102.0}, {'name': 'Andrew Benintendi', '{pitch}': 'N/A'}, {'name': 'Austin Hays', '{pitch}': 'N/A'}, {'name': 'Ji-Man Choi', '{pitch}': 'N/A'}, {'name': 'Zac Lowther', '{pitch}': 'N/A'}, {'name': 'Jonathan Davis', '{pitch}': 'N/A'}, {'name': 'Pat Valaika', '{pitch}': 'N/A'}, {'name': 'Hanser Alberto', '{pitch}': 'N/A'}, {'name': 'Teoscar HernÃ¡ndez', '{pitch}': 'N/A'}, {'name': 'Tanner Houck', '{pitch}': 2023.0}, {'name': 'Ty Tice', '{pitch}': 'N/A'}, {'name': 'Christian Arroyo', '{pitch}': 'N/A'}, {'name': 'Clint Frazier', '{pitch}': 'N/A'}, {'name': 'Brett Phillips', '{pitch}': 'N/A'}, {'name': 'Lourdes Gurriel Jr.', '{pitch}': 'N/A'}, {'name': 'Richie Martin', '{pitch}': 'N/A'}, {'name': 'Chris Mazza', '{pitch}': 2075.0}, {'name': 'Mike Tauchman', '{pitch}': 'N/A'}, {'name': 'Xander Bogaerts', '{pitch}': 'N/A'}, {'name': 'Pete Fairbanks', '{pitch}': 2434.0}, {'name': 'Darwinzon Hernandez', '{pitch}': 2330.0}, {'name': 'Ryan Borucki', '{pitch}': 2404.0}, {'name': 'Alexander Wells', '{pitch}': 'N/A'}, {'name': 'Thairo Estrada', '{pitch}': 'N/A'}, {'name': 'Tom Hatch', '{pitch}': 2601.0}, {'name': 'Rowdy Tellez', '{pitch}': 'N/A'}, {'name': 'Riley Adams', '{pitch}': 'N/A'}, {'name': 'Dustin Pedroia', '{pitch}': 'N/A'}, {'name': 'Gabriel Moreno', '{pitch}': 'N/A'}, {'name': 'Anthony Castro', '{pitch}': 2507.0}, {'name': 'Travis Lakins Sr.', '{pitch}': 2227.0}, {'name': 'Aaron Hicks', '{pitch}': 'N/A'}, {'name': 'Austin Brice', '{pitch}': 2251.0}, {'name': 'Randal Grichuk', '{pitch}': 'N/A'}, {'name': 'Jonathan AraÃºz', '{pitch}': 'N/A'}, {'name': 'Garrett Whitlock', '{pitch}': 'N/A'}, {'name': 'Shawn Armstrong', '{pitch}': 2479.0}, {'name': 'Ryan Brasier', '{pitch}': 2253.0}, {'name': 'Phillips Valdez', '{pitch}': 2469.0}, {'name': 'Chris Sale', '{pitch}': 'N/A'}, {'name': 'Nathan Eovaldi', '{pitch}': 2121.0}, {'name': 'Anthony Kay', '{pitch}': 2367.0}, {'name': 'Alex Verdugo', '{pitch}': 'N/A'}, {'name': 'Randy Arozarena', '{pitch}': 'N/A'}, {'name': 'Alejandro Kirk', '{pitch}': 'N/A'}, {'name': 'Trevor Richards', '{pitch}': 2155.0}, {'name': 'Nick Anderson', '{pitch}': 2209.0}, {'name': 'Gleyber Torres', '{pitch}': 'N/A'}, {'name': 'Keegan Akin', '{pitch}': 2394.0}, {'name': 'Francisco MejÃ\\xada', '{pitch}': 'N/A'}, {'name': 'Diego Castillo', '{pitch}': 1876.0}, {'name': 'Tyler Glasnow', '{pitch}': 2409.0}, {'name': 'Willy Adames', '{pitch}': 'N/A'}, {'name': 'Jeisson Rosario', '{pitch}': 'N/A'}, {'name': 'Gio Urshela', '{pitch}': 'N/A'}, {'name': 'Aaron Judge', '{pitch}': 'N/A'}, {'name': 'Bo Bichette', '{pitch}': 'N/A'}, {'name': 'Josh Palacios', '{pitch}': 'N/A'}, {'name': 'Hunter Renfroe', '{pitch}': 'N/A'}, {'name': 'Michael King', '{pitch}': 2362.0}, {'name': 'Danny Jansen', '{pitch}': 'N/A'}, {'name': 'Kevin Kiermaier', '{pitch}': 'N/A'}, {'name': 'Eduardo RodrÃ\\xadguez', '{pitch}': 'N/A'}, {'name': 'Joey Wendle', '{pitch}': 'N/A'}, {'name': 'DJ Stewart', '{pitch}': 'N/A'}, {'name': 'John Curtiss', '{pitch}': 2306.0}, {'name': 'Cody Reed', '{pitch}': 2134.0}, {'name': 'Paul Fry', '{pitch}': 2277.0}, {'name': 'Robbie Ray', '{pitch}': 2420.0}, {'name': 'Tanner Scott', '{pitch}': 'N/A'}, {'name': 'Ryan Mountcastle', '{pitch}': 'N/A'}, {'name': 'Cavan Biggio', '{pitch}': 'N/A'}, {'name': 'Mike Zunino', '{pitch}': 'N/A'}, {'name': 'Chance Sisco', '{pitch}': 'N/A'}, {'name': 'Pedro Severino', '{pitch}': 'N/A'}, {'name': 'Santiago Espinal', '{pitch}': 'N/A'}, {'name': 'Reese McGuire', '{pitch}': 'N/A'}, {'name': 'Isaac Mattson', '{pitch}': 'N/A'}, {'name': 'Travis Shaw', '{pitch}': 'N/A'}, {'name': 'Bobby Dalbec', '{pitch}': 'N/A'}, {'name': 'Matt Andriese', '{pitch}': 2320.0}, {'name': 'Kevin Plawecki', '{pitch}': 1815.0}, {'name': 'Josh Taylor', '{pitch}': 2282.0}, {'name': 'Michael Baumann', '{pitch}': 'N/A'}, {'name': 'Ross Stripling', '{pitch}': 2273.0}, {'name': 'Rio Ruiz', '{pitch}': 'N/A'}, {'name': 'Yusniel Diaz', '{pitch}': 'N/A'}, {'name': 'Jorge LÃ³pez', '{pitch}': 1910.0}, {'name': 'A.J. Cole', '{pitch}': 2331.0}, {'name': 'Manuel Margot', '{pitch}': 'N/A'}, {'name': 'Yandy DÃ\\xadaz', '{pitch}': 'N/A'}, {'name': 'Austin Meadows', '{pitch}': 'N/A'}, {'name': 'Tyler Wade', '{pitch}': 'N/A'}, {'name': 'Brandon Lowe', '{pitch}': 'N/A'}, {'name': 'JosÃ© Iglesias', '{pitch}': 'N/A'}, {'name': 'Alex Cobb', '{pitch}': 2090.0}, {'name': 'Mike Brosseau', '{pitch}': 'N/A'}, {'name': 'Nick Pivetta', '{pitch}': 2346.0}, {'name': 'Anthony Santander', '{pitch}': 'N/A'}, {'name': 'Cesar Valdez', '{pitch}': 2316.0}, {'name': 'John Means', '{pitch}': 2450.0}, {'name': 'Bruce Zimmermann', '{pitch}': 2360.0}, {'name': 'Ryan Yarbrough', '{pitch}': 'N/A'}, {'name': 'Matt Barnes', '{pitch}': 2314.0}, {'name': 'Michael Wacha', '{pitch}': 2127.0}, {'name': 'Chris Davis', '{pitch}': 'N/A'}, {'name': 'Trey Mancini', '{pitch}': 'N/A'}, {'name': 'Colten Brewer', '{pitch}': 1989.0}, {'name': 'Rafael Dolis', '{pitch}': 2315.0}, {'name': 'Cole Sulser', '{pitch}': 2409.0}, {'name': 'Jordan Montgomery', '{pitch}': 2302.0}, {'name': 'Deivi GarcÃ\\xada', '{pitch}': 2162.0}, {'name': 'Gerrit Cole', '{pitch}': 2517.0}, {'name': 'Mike Ford', '{pitch}': 'N/A'}, {'name': 'Nate Pearson', '{pitch}': 2307.0}, {'name': 'J.D. Martinez', '{pitch}': 'N/A'}, {'name': 'Rylan Bannon', '{pitch}': 'N/A'}, {'name': 'Vladimir Guerrero Jr.', '{pitch}': 'N/A'}, {'name': 'Cedric Mullins', '{pitch}': 'N/A'}, {'name': 'Josh Fleming', '{pitch}': 1952.0}, {'name': 'Rafael Devers', '{pitch}': 'N/A'}]\n"
     ]
    }
   ],
   "source": [
    "print(data)"
   ]
  },
  {
   "cell_type": "code",
   "execution_count": null,
   "metadata": {},
   "outputs": [],
   "source": [
    "season = getSeasonByYear(hitter_data_list[1], season_year)"
   ]
  },
  {
   "cell_type": "code",
   "execution_count": null,
   "metadata": {},
   "outputs": [],
   "source": []
  },
  {
   "cell_type": "code",
   "execution_count": null,
   "metadata": {},
   "outputs": [],
   "source": [
    " getBarreledBall(season)"
   ]
  },
  {
   "cell_type": "code",
   "execution_count": null,
   "metadata": {},
   "outputs": [],
   "source": [
    "season"
   ]
  },
  {
   "cell_type": "code",
   "execution_count": null,
   "metadata": {},
   "outputs": [],
   "source": [
    "getSeasonByYear(hitter_data_list[1],2019,seasonType ='REG')"
   ]
  },
  {
   "cell_type": "code",
   "execution_count": null,
   "metadata": {},
   "outputs": [],
   "source": []
  }
 ],
 "metadata": {
  "kernelspec": {
   "display_name": "Python 3",
   "language": "python",
   "name": "python3"
  },
  "language_info": {
   "codemirror_mode": {
    "name": "ipython",
    "version": 3
   },
   "file_extension": ".py",
   "mimetype": "text/x-python",
   "name": "python",
   "nbconvert_exporter": "python",
   "pygments_lexer": "ipython3",
   "version": "3.8.3"
  }
 },
 "nbformat": 4,
 "nbformat_minor": 4
}
